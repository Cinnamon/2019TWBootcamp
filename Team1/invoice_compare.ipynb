{
 "cells": [
  {
   "cell_type": "code",
   "execution_count": 51,
   "metadata": {},
   "outputs": [
    {
     "name": "stderr",
     "output_type": "stream",
     "text": [
      "/Users/weng/anaconda3/lib/python3.6/importlib/_bootstrap.py:219: RuntimeWarning: numpy.dtype size changed, may indicate binary incompatibility. Expected 96, got 88\n",
      "  return f(*args, **kwds)\n",
      "/Users/weng/anaconda3/lib/python3.6/importlib/_bootstrap.py:219: RuntimeWarning: numpy.dtype size changed, may indicate binary incompatibility. Expected 96, got 88\n",
      "  return f(*args, **kwds)\n"
     ]
    }
   ],
   "source": [
    "import pandas as pd"
   ]
  },
  {
   "cell_type": "code",
   "execution_count": 28,
   "metadata": {},
   "outputs": [],
   "source": [
    "prize_num = pd.read_csv('invoice.csv', dtype=str)"
   ]
  },
  {
   "cell_type": "code",
   "execution_count": 29,
   "metadata": {},
   "outputs": [
    {
     "data": {
      "text/html": [
       "<div>\n",
       "<style scoped>\n",
       "    .dataframe tbody tr th:only-of-type {\n",
       "        vertical-align: middle;\n",
       "    }\n",
       "\n",
       "    .dataframe tbody tr th {\n",
       "        vertical-align: top;\n",
       "    }\n",
       "\n",
       "    .dataframe thead th {\n",
       "        text-align: right;\n",
       "    }\n",
       "</style>\n",
       "<table border=\"1\" class=\"dataframe\">\n",
       "  <thead>\n",
       "    <tr style=\"text-align: right;\">\n",
       "      <th></th>\n",
       "      <th>award1</th>\n",
       "      <th>award2</th>\n",
       "      <th>award3</th>\n",
       "      <th>award6</th>\n",
       "      <th>date</th>\n",
       "    </tr>\n",
       "  </thead>\n",
       "  <tbody>\n",
       "    <tr>\n",
       "      <th>0</th>\n",
       "      <td>03802602</td>\n",
       "      <td>00708299</td>\n",
       "      <td>33877270、21772506、61786409</td>\n",
       "      <td>136、022</td>\n",
       "      <td>03 ~ 04 月</td>\n",
       "    </tr>\n",
       "    <tr>\n",
       "      <th>1</th>\n",
       "      <td>88515559</td>\n",
       "      <td>47551146</td>\n",
       "      <td>83513656、85250862、61472404</td>\n",
       "      <td>185、079、442</td>\n",
       "      <td>11 ~ 12 月</td>\n",
       "    </tr>\n",
       "    <tr>\n",
       "      <th>2</th>\n",
       "      <td>00106725</td>\n",
       "      <td>90819218</td>\n",
       "      <td>13440631、26650552、09775722</td>\n",
       "      <td>809、264</td>\n",
       "      <td>01 ~ 02 月</td>\n",
       "    </tr>\n",
       "    <tr>\n",
       "      <th>3</th>\n",
       "      <td>20048019</td>\n",
       "      <td>02142605</td>\n",
       "      <td>21240109、78323535、18549847</td>\n",
       "      <td>706、574</td>\n",
       "      <td>05 ~ 06 月</td>\n",
       "    </tr>\n",
       "    <tr>\n",
       "      <th>4</th>\n",
       "      <td>73372972</td>\n",
       "      <td>22315462</td>\n",
       "      <td>91903003、16228722、03270598</td>\n",
       "      <td>163、983、814</td>\n",
       "      <td>07 ~ 08 月</td>\n",
       "    </tr>\n",
       "    <tr>\n",
       "      <th>5</th>\n",
       "      <td>96363025</td>\n",
       "      <td>69095110</td>\n",
       "      <td>96745865、98829035、45984442</td>\n",
       "      <td>292、650、230</td>\n",
       "      <td>09 ~ 10 月</td>\n",
       "    </tr>\n",
       "  </tbody>\n",
       "</table>\n",
       "</div>"
      ],
      "text/plain": [
       "       award1      award2                        award3         award6  \\\n",
       "0   03802602    00708299    33877270、21772506、61786409        136、022    \n",
       "1   88515559    47551146    83513656、85250862、61472404    185、079、442    \n",
       "2   00106725    90819218    13440631、26650552、09775722        809、264    \n",
       "3   20048019    02142605    21240109、78323535、18549847        706、574    \n",
       "4   73372972    22315462    91903003、16228722、03270598    163、983、814    \n",
       "5   96363025    69095110    96745865、98829035、45984442    292、650、230    \n",
       "\n",
       "          date  \n",
       "0   03 ~ 04 月   \n",
       "1   11 ~ 12 月   \n",
       "2   01 ~ 02 月   \n",
       "3   05 ~ 06 月   \n",
       "4   07 ~ 08 月   \n",
       "5   09 ~ 10 月   "
      ]
     },
     "execution_count": 29,
     "metadata": {},
     "output_type": "execute_result"
    }
   ],
   "source": [
    "prize_num"
   ]
  },
  {
   "cell_type": "code",
   "execution_count": 32,
   "metadata": {},
   "outputs": [
    {
     "data": {
      "text/html": [
       "<div>\n",
       "<style scoped>\n",
       "    .dataframe tbody tr th:only-of-type {\n",
       "        vertical-align: middle;\n",
       "    }\n",
       "\n",
       "    .dataframe tbody tr th {\n",
       "        vertical-align: top;\n",
       "    }\n",
       "\n",
       "    .dataframe thead th {\n",
       "        text-align: right;\n",
       "    }\n",
       "</style>\n",
       "<table border=\"1\" class=\"dataframe\">\n",
       "  <thead>\n",
       "    <tr style=\"text-align: right;\">\n",
       "      <th></th>\n",
       "      <th>award1</th>\n",
       "      <th>award2</th>\n",
       "      <th>award3</th>\n",
       "      <th>award6</th>\n",
       "      <th>date</th>\n",
       "    </tr>\n",
       "  </thead>\n",
       "  <tbody>\n",
       "    <tr>\n",
       "      <th>0</th>\n",
       "      <td>03802602</td>\n",
       "      <td>00708299</td>\n",
       "      <td>[33877270, 21772506, 61786409]</td>\n",
       "      <td>[136, 022]</td>\n",
       "      <td>03 ~ 04 月</td>\n",
       "    </tr>\n",
       "    <tr>\n",
       "      <th>1</th>\n",
       "      <td>88515559</td>\n",
       "      <td>47551146</td>\n",
       "      <td>[83513656, 85250862, 61472404]</td>\n",
       "      <td>[185, 079, 442]</td>\n",
       "      <td>11 ~ 12 月</td>\n",
       "    </tr>\n",
       "    <tr>\n",
       "      <th>2</th>\n",
       "      <td>00106725</td>\n",
       "      <td>90819218</td>\n",
       "      <td>[13440631, 26650552, 09775722]</td>\n",
       "      <td>[809, 264]</td>\n",
       "      <td>01 ~ 02 月</td>\n",
       "    </tr>\n",
       "    <tr>\n",
       "      <th>3</th>\n",
       "      <td>20048019</td>\n",
       "      <td>02142605</td>\n",
       "      <td>[21240109, 78323535, 18549847]</td>\n",
       "      <td>[706, 574]</td>\n",
       "      <td>05 ~ 06 月</td>\n",
       "    </tr>\n",
       "    <tr>\n",
       "      <th>4</th>\n",
       "      <td>73372972</td>\n",
       "      <td>22315462</td>\n",
       "      <td>[91903003, 16228722, 03270598]</td>\n",
       "      <td>[163, 983, 814]</td>\n",
       "      <td>07 ~ 08 月</td>\n",
       "    </tr>\n",
       "    <tr>\n",
       "      <th>5</th>\n",
       "      <td>96363025</td>\n",
       "      <td>69095110</td>\n",
       "      <td>[96745865, 98829035, 45984442]</td>\n",
       "      <td>[292, 650, 230]</td>\n",
       "      <td>09 ~ 10 月</td>\n",
       "    </tr>\n",
       "  </tbody>\n",
       "</table>\n",
       "</div>"
      ],
      "text/plain": [
       "       award1      award2                          award3           award6  \\\n",
       "0   03802602    00708299   [33877270, 21772506, 61786409]       [136, 022]   \n",
       "1   88515559    47551146   [83513656, 85250862, 61472404]  [185, 079, 442]   \n",
       "2   00106725    90819218   [13440631, 26650552, 09775722]       [809, 264]   \n",
       "3   20048019    02142605   [21240109, 78323535, 18549847]       [706, 574]   \n",
       "4   73372972    22315462   [91903003, 16228722, 03270598]  [163, 983, 814]   \n",
       "5   96363025    69095110   [96745865, 98829035, 45984442]  [292, 650, 230]   \n",
       "\n",
       "          date  \n",
       "0   03 ~ 04 月   \n",
       "1   11 ~ 12 月   \n",
       "2   01 ~ 02 月   \n",
       "3   05 ~ 06 月   \n",
       "4   07 ~ 08 月   \n",
       "5   09 ~ 10 月   "
      ]
     },
     "execution_count": 32,
     "metadata": {},
     "output_type": "execute_result"
    }
   ],
   "source": [
    "for i in range(len(prize_num['award3'])):\n",
    "    prize_num['award3'][i] = prize_num['award3'][i].replace(' ', '')\n",
    "    prize_num['award3'][i] = prize_num['award3'][i].split('、')\n",
    "for i in range(len(prize_num['award6'])):\n",
    "    prize_num['award6'][i] = prize_num['award6'][i].replace(' ', '')\n",
    "    prize_num['award6'][i] = prize_num['award6'][i].split('、')\n",
    "prize_num"
   ]
  },
  {
   "cell_type": "code",
   "execution_count": 38,
   "metadata": {},
   "outputs": [
    {
     "data": {
      "text/plain": [
       "[{'award1': ' 03802602 ',\n",
       "  'award2': ' 00708299 ',\n",
       "  'award3': ['33877270', '21772506', '61786409'],\n",
       "  'award6': ['136', '022']},\n",
       " {'award1': ' 88515559 ',\n",
       "  'award2': ' 47551146 ',\n",
       "  'award3': ['83513656', '85250862', '61472404'],\n",
       "  'award6': ['185', '079', '442']},\n",
       " {'award1': ' 00106725 ',\n",
       "  'award2': ' 90819218 ',\n",
       "  'award3': ['13440631', '26650552', '09775722'],\n",
       "  'award6': ['809', '264']},\n",
       " {'award1': ' 20048019 ',\n",
       "  'award2': ' 02142605 ',\n",
       "  'award3': ['21240109', '78323535', '18549847'],\n",
       "  'award6': ['706', '574']},\n",
       " {'award1': ' 73372972 ',\n",
       "  'award2': ' 22315462 ',\n",
       "  'award3': ['91903003', '16228722', '03270598'],\n",
       "  'award6': ['163', '983', '814']},\n",
       " {'award1': ' 96363025 ',\n",
       "  'award2': ' 69095110 ',\n",
       "  'award3': ['96745865', '98829035', '45984442'],\n",
       "  'award6': ['292', '650', '230']}]"
      ]
     },
     "execution_count": 38,
     "metadata": {},
     "output_type": "execute_result"
    }
   ],
   "source": [
    "prize_num_ls=[]\n",
    "for month in prize_num['date']:\n",
    "    prize_num_ls.append('prize_dict_'+month)\n",
    "\n",
    "for i in range(len(prize_num_ls)):\n",
    "    prize_num_ls[i] = dict(award1 = prize_num['award1'][i], award2 = prize_num['award2'][i], award3 = prize_num['award3'][i],\n",
    "                         award6 = prize_num['award6'][i])\n",
    "prize_num_ls\n"
   ]
  },
  {
   "cell_type": "code",
   "execution_count": 45,
   "metadata": {},
   "outputs": [],
   "source": [
    "def compare(num):\n",
    "    prize_ls=[]\n",
    "    if num == prize_dict['award1']:\n",
    "        prize_ls.append('特別獎')\n",
    "    elif num == prize_dict['award2']:\n",
    "        prize_ls.append('特獎')\n",
    "    for award3_num in prize_dict['award3']:\n",
    "        if num == award3_num:\n",
    "            prize_ls.append('特獎')\n",
    "        elif num[-7:] == award3_num[-7:]:\n",
    "            prize_ls.append('二獎')\n",
    "        elif num[-6:] == award3_num[-6:]:\n",
    "            prize_ls.append('三獎')\n",
    "        elif num[-5:] == award3_num[-5:]:\n",
    "            prize_ls.append('四獎')\n",
    "        elif num[-4:] == award3_num[-4:]:\n",
    "            prize_ls.append('五獎')\n",
    "        elif num[-3:] == award3_num[-3:]:\n",
    "            prize_ls.append('六獎')\n",
    "    for award6_num in prize_dict['award6']:\n",
    "        if num[-3:] == award6_num:\n",
    "            prize_ls.append('六獎')\n",
    "    else:\n",
    "        prize_ls.append('沒中獎')\n",
    "    return prize_ls[0]"
   ]
  },
  {
   "cell_type": "code",
   "execution_count": 53,
   "metadata": {},
   "outputs": [],
   "source": [
    "import re"
   ]
  },
  {
   "cell_type": "code",
   "execution_count": 67,
   "metadata": {},
   "outputs": [],
   "source": [
    "def num_filter(ocr_result):\n",
    "    #input the outcome of OCR\n",
    "    pattern = re.compile(r'\\d{8}')\n",
    "    res = re.findall(pattern, ocr_result)\n",
    "    return res[0][-8:]"
   ]
  },
  {
   "cell_type": "code",
   "execution_count": 69,
   "metadata": {},
   "outputs": [
    {
     "data": {
      "text/plain": [
       "'12345678'"
      ]
     },
     "execution_count": 69,
     "metadata": {},
     "output_type": "execute_result"
    }
   ],
   "source": [
    "num_filter('sasa 12345678 sasa sqwq')"
   ]
  },
  {
   "cell_type": "code",
   "execution_count": null,
   "metadata": {},
   "outputs": [],
   "source": []
  }
 ],
 "metadata": {
  "kernelspec": {
   "display_name": "Python 3",
   "language": "python",
   "name": "python3"
  },
  "language_info": {
   "codemirror_mode": {
    "name": "ipython",
    "version": 3
   },
   "file_extension": ".py",
   "mimetype": "text/x-python",
   "name": "python",
   "nbconvert_exporter": "python",
   "pygments_lexer": "ipython3",
   "version": "3.6.8"
  }
 },
 "nbformat": 4,
 "nbformat_minor": 2
}
