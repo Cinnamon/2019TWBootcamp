{
 "cells": [
  {
   "cell_type": "code",
   "execution_count": 1,
   "metadata": {},
   "outputs": [
    {
     "data": {
      "text/plain": [
       "'1.13.1'"
      ]
     },
     "execution_count": 1,
     "metadata": {},
     "output_type": "execute_result"
    }
   ],
   "source": [
    "import numpy as np\n",
    "import tensorflow as tf\n",
    "tf.enable_eager_execution()\n",
    "tf.__version__"
   ]
  },
  {
   "cell_type": "markdown",
   "metadata": {},
   "source": [
    "## Parameters"
   ]
  },
  {
   "cell_type": "code",
   "execution_count": 2,
   "metadata": {},
   "outputs": [],
   "source": [
    "import pathlib\n",
    "#img_path = \"/home/Data/CharactersTrimPad28/\"\n",
    "img_path = \"./s3mnt/ChineseNumbers/\"\n",
    "img_path = \"/home/Data/ChineseNumbers/\"\n",
    "data_root = pathlib.Path(img_path)\n",
    "AUTOTUNE = tf.data.experimental.AUTOTUNE\n",
    "NUM_EPOCHS = 1\n",
    "BATCH_SIZE = 32"
   ]
  },
  {
   "cell_type": "markdown",
   "metadata": {},
   "source": [
    "## Mapping function"
   ]
  },
  {
   "cell_type": "code",
   "execution_count": 3,
   "metadata": {},
   "outputs": [],
   "source": [
    "def preprocess_image(image):\n",
    "  image = tf.image.decode_image(image, channels=3)\n",
    "  image = tf.cast(image, tf.float32)\n",
    "  image /= 255.0  # normalize to [0,1] range\n",
    "  return image\n",
    "\n",
    "def load_and_preprocess_image(path):\n",
    "  image = tf.read_file(path)\n",
    "  return preprocess_image(image)\n",
    "\n",
    "# The tuples are unpacked into the positional arguments of the mapped function\n",
    "def load_and_preprocess_from_path_label(path, label):\n",
    "  return load_and_preprocess_image(path), label"
   ]
  },
  {
   "cell_type": "markdown",
   "metadata": {},
   "source": [
    "## Generate paths and labels"
   ]
  },
  {
   "cell_type": "code",
   "execution_count": 4,
   "metadata": {},
   "outputs": [
    {
     "name": "stdout",
     "output_type": "stream",
     "text": [
      "['/home/Data/ChineseNumbers/二/Han yi Cu yuan ti Font-Traditional Chinese ttf.png', '/home/Data/ChineseNumbers/二/JiaShang Liu Xing kai 5500 Font- Simplified Chinesettf.png', '/home/Data/ChineseNumbers/二/Japan hengshan writing brush Font-Traditional Chinesettf.png', '/home/Data/ChineseNumbers/二/Classic Cu hei Fontttf.png', '/home/Data/ChineseNumbers/二/Chinese New Year(DFGirl-dospy-fei) font-Simplified Chinesettf.png', '/home/Data/ChineseNumbers/二/Han yi Fang die Fontttf.png', '/home/Data/ChineseNumbers/二/Classic Kong die hei Fontttf.png', '/home/Data/ChineseNumbers/二/Childhood amusement park Font-Simplified Chinesettf.png', '/home/Data/ChineseNumbers/二/Snow World  Butterfly Font-Simplified Chinesettf.png', '/home/Data/ChineseNumbers/二/Hypocrite Youth v 20 Font-Simplified ChineseTTF.png']\n"
     ]
    }
   ],
   "source": [
    "# tf.data.Dataset.from_tensor_slices\n",
    "all_image_paths = [str(path) for path in list(data_root.glob('*/*'))]\n",
    "print(all_image_paths[:10])\n",
    "\n",
    "label_names = sorted(item.name for item in data_root.glob('*/') if item.is_dir())\n",
    "label_to_index = dict((name, index) for index,name in enumerate(label_names))\n",
    "all_image_labels = [label_to_index[pathlib.Path(path).parent.name]\n",
    "                    for path in all_image_paths]\n",
    "\n",
    "image_count = len(all_image_paths)"
   ]
  },
  {
   "cell_type": "markdown",
   "metadata": {},
   "source": [
    "## Test iterate time"
   ]
  },
  {
   "cell_type": "code",
   "execution_count": 18,
   "metadata": {},
   "outputs": [],
   "source": [
    "import time\n",
    "\n",
    "def timeit(dataset):\n",
    "    overall_start = time.time()\n",
    "    n_image = 0\n",
    "\n",
    "    start = time.time()\n",
    "    for n_batch,(images,labels) in enumerate(dataset):\n",
    "        n_image += int(images.shape[0])\n",
    "        if n_image%100 == 0:\n",
    "            #print('.',end='')\n",
    "            #print(\"\\r{} images in {} batches with BATCH_SIZE {}: {:.2f} s\".format(n_image, n_batch, BATCH_SIZE, time.time()-start), end='', flush=True)\n",
    "            print(\"\\r{} images: {:.2f} s\".format(n_image, time.time()-start), end='', flush=True)\n",
    "    print()\n",
    "    end = time.time()\n",
    "    duration = end-start\n",
    "    \n",
    "    print(\"{} images: {} s\".format(n_image, duration))\n",
    "    print(\"{:0.5f} Images/s\".format(n_image/float(duration)))\n",
    "    print(\"Total time: {}s\".format(end-overall_start))"
   ]
  },
  {
   "cell_type": "markdown",
   "metadata": {},
   "source": [
    "## Input pipeline experiment"
   ]
  },
  {
   "cell_type": "markdown",
   "metadata": {},
   "source": [
    "### 1. Original pipeline"
   ]
  },
  {
   "cell_type": "code",
   "execution_count": 19,
   "metadata": {},
   "outputs": [
    {
     "name": "stdout",
     "output_type": "stream",
     "text": [
      "12000 images: 3.17 s\n",
      "12607 images: 3.327425956726074 s\n",
      "3788.81459 Images/s\n",
      "Total time: 3.3274269104003906s\n"
     ]
    }
   ],
   "source": [
    "# Extract\n",
    "path_label_ds = tf.data.Dataset.from_tensor_slices((all_image_paths, all_image_labels))\n",
    "\n",
    "# Transform\n",
    "path_label_ds = path_label_ds.shuffle(buffer_size=image_count)\n",
    "path_label_ds = path_label_ds.repeat(NUM_EPOCHS)\n",
    "\n",
    "image_label_ds = path_label_ds.map(load_and_preprocess_from_path_label)\n",
    "image_label_ds = image_label_ds.batch(BATCH_SIZE)\n",
    "\n",
    "# Load\n",
    "timeit(image_label_ds)"
   ]
  },
  {
   "cell_type": "markdown",
   "metadata": {},
   "source": [
    "### 2. Map with num_parallel_calls"
   ]
  },
  {
   "cell_type": "code",
   "execution_count": 21,
   "metadata": {},
   "outputs": [
    {
     "name": "stdout",
     "output_type": "stream",
     "text": [
      "12000 images: 1.08 s\n",
      "12607 images: 1.127851963043213 s\n",
      "11177.88541 Images/s\n",
      "Total time: 1.1278529167175293s\n"
     ]
    }
   ],
   "source": [
    "# Extract\n",
    "path_label_ds = tf.data.Dataset.from_tensor_slices((all_image_paths, all_image_labels))\n",
    "\n",
    "# Transform\n",
    "path_label_ds = path_label_ds.shuffle(buffer_size=image_count)\n",
    "path_label_ds = path_label_ds.repeat(NUM_EPOCHS)\n",
    "path_label_ds = path_label_ds.apply(tf.data.experimental.shuffle_and_repeat(buffer_size=image_count, count=NUM_EPOCHS))\n",
    "\n",
    "\n",
    "image_label_ds = path_label_ds.map(load_and_preprocess_from_path_label, num_parallel_calls=4)\n",
    "image_label_ds = image_label_ds.batch(BATCH_SIZE)\n",
    "\n",
    "# Load\n",
    "timeit(image_label_ds)"
   ]
  },
  {
   "cell_type": "markdown",
   "metadata": {},
   "source": [
    "### 3. tf.data.experimental.shuffle_and_repeat"
   ]
  },
  {
   "cell_type": "markdown",
   "metadata": {},
   "source": [
    "See more about [tf.data.experimental.shuffle_and_repeat](https://www.tensorflow.org/api_docs/python/tf/data/experimental/shuffle_and_repeat)\n",
    "```\n",
    "tf.data.experimental.shuffle_and_repeat(\n",
    "    buffer_size,\n",
    "    count=None,\n",
    "    seed=None\n",
    ")\n",
    "```"
   ]
  },
  {
   "cell_type": "code",
   "execution_count": 22,
   "metadata": {},
   "outputs": [
    {
     "name": "stdout",
     "output_type": "stream",
     "text": [
      "12000 images: 1.05 s\n",
      "12607 images: 1.105530023574829 s\n",
      "11403.57994 Images/s\n",
      "Total time: 1.1055309772491455s\n"
     ]
    }
   ],
   "source": [
    "# Extract\n",
    "path_label_ds = tf.data.Dataset.from_tensor_slices((all_image_paths, all_image_labels))\n",
    "\n",
    "# Transform\n",
    "path_label_ds = path_label_ds.apply(tf.data.experimental.shuffle_and_repeat(buffer_size=image_count, count=NUM_EPOCHS))\n",
    "\n",
    "\n",
    "image_label_ds = path_label_ds.map(load_and_preprocess_from_path_label, num_parallel_calls=4)\n",
    "image_label_ds = image_label_ds.batch(BATCH_SIZE)\n",
    "\n",
    "# Load\n",
    "timeit(image_label_ds)"
   ]
  },
  {
   "cell_type": "markdown",
   "metadata": {},
   "source": [
    "### 4. tf.data.experimental.map_and_batch"
   ]
  },
  {
   "cell_type": "markdown",
   "metadata": {},
   "source": [
    "See more about [tf.data.experimental.map_and_batch](https://www.tensorflow.org/api_docs/python/tf/data/experimental/map_and_batch)\n",
    "```\n",
    "tf.data.experimental.map_and_batch(\n",
    "    map_func,\n",
    "    batch_size,\n",
    "    num_parallel_batches=None,\n",
    "    drop_remainder=False,\n",
    "    num_parallel_calls=None\n",
    ")\n",
    "```"
   ]
  },
  {
   "cell_type": "code",
   "execution_count": 23,
   "metadata": {},
   "outputs": [
    {
     "name": "stdout",
     "output_type": "stream",
     "text": [
      "12000 images: 1.04 s\n",
      "12607 images: 1.0948739051818848 s\n",
      "11514.56797 Images/s\n",
      "Total time: 1.0948748588562012s\n"
     ]
    }
   ],
   "source": [
    "# Extract\n",
    "path_label_ds = tf.data.Dataset.from_tensor_slices((all_image_paths, all_image_labels))\n",
    "\n",
    "# Transform\n",
    "path_label_ds = path_label_ds.shuffle(buffer_size=image_count)\n",
    "path_label_ds = path_label_ds.repeat(NUM_EPOCHS)\n",
    "\n",
    "image_label_ds = path_label_ds.apply(tf.data.experimental.map_and_batch(load_and_preprocess_from_path_label, BATCH_SIZE, num_parallel_calls=4))\n",
    "\n",
    "# Load\n",
    "timeit(image_label_ds)"
   ]
  },
  {
   "cell_type": "markdown",
   "metadata": {},
   "source": [
    "### 5. shuffle_and_repeat + map_and_batch"
   ]
  },
  {
   "cell_type": "code",
   "execution_count": 24,
   "metadata": {},
   "outputs": [
    {
     "name": "stdout",
     "output_type": "stream",
     "text": [
      "12000 images: 1.05 s\n",
      "12607 images: 1.0960001945495605 s\n",
      "11502.73518 Images/s\n",
      "Total time: 1.096001148223877s\n"
     ]
    }
   ],
   "source": [
    "# Extract\n",
    "path_label_ds = tf.data.Dataset.from_tensor_slices((all_image_paths, all_image_labels))\n",
    "\n",
    "# Transform\n",
    "path_label_ds = path_label_ds.apply(tf.data.experimental.shuffle_and_repeat(buffer_size=image_count, count=NUM_EPOCHS))\n",
    "image_label_ds = path_label_ds.apply(tf.data.experimental.map_and_batch(load_and_preprocess_from_path_label, BATCH_SIZE, num_parallel_calls=4))\n",
    "\n",
    "# Load\n",
    "timeit(image_label_ds)"
   ]
  },
  {
   "cell_type": "markdown",
   "metadata": {},
   "source": [
    "### 6. Prefetch"
   ]
  },
  {
   "cell_type": "markdown",
   "metadata": {},
   "source": [
    "See more about [tf.data.experimental.prefetch_to_device](https://www.tensorflow.org/api_docs/python/tf/data/experimental/prefetch_to_device)\n",
    "```\n",
    "tf.data.experimental.prefetch_to_device(\n",
    "    device,\n",
    "    buffer_size=None\n",
    ")\n",
    "```"
   ]
  },
  {
   "cell_type": "code",
   "execution_count": 25,
   "metadata": {},
   "outputs": [
    {
     "name": "stdout",
     "output_type": "stream",
     "text": [
      "12000 images: 1.06 s\n",
      "12607 images: 1.1160252094268799 s\n",
      "11296.33981 Images/s\n",
      "Total time: 1.1160261631011963s\n"
     ]
    }
   ],
   "source": [
    "# Extract\n",
    "path_label_ds = tf.data.Dataset.from_tensor_slices((all_image_paths, all_image_labels))\n",
    "\n",
    "# Transform\n",
    "path_label_ds = path_label_ds.apply(tf.data.experimental.shuffle_and_repeat(buffer_size=image_count, count=NUM_EPOCHS))\n",
    "\n",
    "image_label_ds = path_label_ds.map(load_and_preprocess_from_path_label, num_parallel_calls=4)\n",
    "image_label_ds = image_label_ds.batch(BATCH_SIZE)\n",
    "\n",
    "# Load\n",
    "image_label_ds = image_label_ds.prefetch(buffer_size=1) # Only on CPU\n",
    "#image_label_ds = image_label_ds.apply(tf.data.experimental.prefetch_to_device(device=\"/gpu:0\", buffer_size=1)) # Must be final Dataset in input pipeline\n",
    "timeit(image_label_ds)"
   ]
  },
  {
   "cell_type": "markdown",
   "metadata": {},
   "source": [
    "### 7. Cache"
   ]
  },
  {
   "cell_type": "markdown",
   "metadata": {},
   "source": [
    "See more about [tf.data.Dataset.cache](https://www.tensorflow.org/tutorials/load_data/images#cache)\n",
    "                                       \n",
    "Use tf.data.Dataset.cache to easily cache calculations across epochs. This is especially performant if the dataq fits in memory\n",
    "```\n",
    "ds = image_label_ds.cache()\n",
    "```\n",
    "\n",
    "One disadvantage to using an in memory cache is that the cache must be rebuilt on each run, giving the same startup delay each time the dataset is started:\n",
    "If the data doesn't fit in memory, use a cache file. \n",
    "The cache file also has the advantage that it can be used to quickly restart the dataset without rebuilding the cache. Note how much faster it is the second time:\n",
    "\n",
    "\n",
    "```\n",
    "ds = image_label_ds.cache(filename='./cache.tf-data')\n",
    "```"
   ]
  },
  {
   "cell_type": "code",
   "execution_count": 27,
   "metadata": {},
   "outputs": [
    {
     "name": "stdout",
     "output_type": "stream",
     "text": [
      "12000 images: 0.11 s\n",
      "12607 images: 0.11554718017578125 s\n",
      "109106.94645 Images/s\n",
      "Total time: 0.11554813385009766s\n"
     ]
    }
   ],
   "source": [
    "# Extract\n",
    "ds = tf.data.Dataset.from_tensor_slices((all_image_paths, all_image_labels))\n",
    "\n",
    "# Transform\n",
    "ds = ds.apply(tf.data.experimental.shuffle_and_repeat(buffer_size=image_count, count=NUM_EPOCHS))\n",
    "#path_label_ds = path_label_ds.cache(filename='./cache.tf-path')\n",
    "\n",
    "ds = ds.map(load_and_preprocess_from_path_label, num_parallel_calls=4)\n",
    "ds = ds.batch(BATCH_SIZE)\n",
    "\n",
    "# Load\n",
    "ds = ds.cache(filename='./cache.tf-ds')\n",
    "ds = ds.prefetch(buffer_size=1) # Only on CPU\n",
    "#image_label_ds = image_label_ds.apply(tf.data.experimental.prefetch_to_device(device=\"/gpu:0\", buffer_size=1)) # Must be final Dataset in input pipeline\n",
    "timeit(ds)"
   ]
  },
  {
   "cell_type": "code",
   "execution_count": 5,
   "metadata": {},
   "outputs": [
    {
     "name": "stdout",
     "output_type": "stream",
     "text": [
      "WARNING:tensorflow:From /home/bootcamp/venv/lib/python3.5/site-packages/tensorflow/python/data/ops/iterator_ops.py:532: colocate_with (from tensorflow.python.framework.ops) is deprecated and will be removed in a future version.\n",
      "Instructions for updating:\n",
      "Colocations handled automatically by placer.\n",
      "0 tf.Tensor(2, shape=(), dtype=int32) tf.Tensor(b'/home/Data/ChineseNumbers/\\xe4\\xb8\\x89/Take off&Good luck Elegant Bold Figure w6 Font-Simplified Chinesettf.png', shape=(), dtype=string)\n",
      "1 tf.Tensor(8, shape=(), dtype=int32) tf.Tensor(b'/home/Data/ChineseNumbers/\\xe5\\x8d\\x81/Fang zheng You xian Font-Traditional Chinesettf.png', shape=(), dtype=string)\n",
      "2 tf.Tensor(3, shape=(), dtype=int32) tf.Tensor(b'/home/Data/ChineseNumbers/\\xe4\\xb9\\x9d/Wen er guang gao Song ti Font-Traditional Chinesettf.png', shape=(), dtype=string)\n",
      "12607 tf.Tensor(2, shape=(), dtype=int32) tf.Tensor(b'/home/Data/ChineseNumbers/\\xe4\\xb8\\x89/Xuke Li Handwriting caricature (v10) Font-Simplified Chinesettf.png', shape=(), dtype=string)\n",
      "12608 tf.Tensor(2, shape=(), dtype=int32) tf.Tensor(b'/home/Data/ChineseNumbers/\\xe4\\xb8\\x89/Mini Zhan bi hei Font-Simplified Chinesettf.png', shape=(), dtype=string)\n",
      "12609 tf.Tensor(6, shape=(), dtype=int32) tf.Tensor(b'/home/Data/ChineseNumbers/\\xe5\\x85\\xab/HanaMinAttf.png', shape=(), dtype=string)\n",
      "25214 tf.Tensor(5, shape=(), dtype=int32) tf.Tensor(b'/home/Data/ChineseNumbers/\\xe4\\xba\\x94/Rose and butterfly Font-Simplified Chinesettf.png', shape=(), dtype=string)\n",
      "25215 tf.Tensor(4, shape=(), dtype=int32) tf.Tensor(b'/home/Data/ChineseNumbers/\\xe4\\xba\\x8c/Classic Sui yi Fontttf.png', shape=(), dtype=string)\n",
      "25216 tf.Tensor(5, shape=(), dtype=int32) tf.Tensor(b'/home/Data/ChineseNumbers/\\xe4\\xba\\x94/Fang zheng Pang wa Font-Traditional Chinesettf.png', shape=(), dtype=string)\n",
      "37821 tf.Tensor(4, shape=(), dtype=int32) tf.Tensor(b'/home/Data/ChineseNumbers/\\xe4\\xba\\x8c/Font Housekeeper Detective Font-Simplified Chinesettf.png', shape=(), dtype=string)\n",
      "37822 tf.Tensor(4, shape=(), dtype=int32) tf.Tensor(b'/home/Data/ChineseNumbers/\\xe4\\xba\\x8c/Plant vines(MGentleHK-Light) Font-Simplified Chinesettf.png', shape=(), dtype=string)\n",
      "37823 tf.Tensor(5, shape=(), dtype=int32) tf.Tensor(b'/home/Data/ChineseNumbers/\\xe4\\xba\\x94/Hua kang Wawa Kong xin ti W5 Font-Traditional Chinese ttf.png', shape=(), dtype=string)\n",
      "50428 tf.Tensor(9, shape=(), dtype=int32) tf.Tensor(b'/home/Data/ChineseNumbers/\\xe5\\x9b\\x9b/Fang zheng Fang song Font-Traditional Chinesettf.png', shape=(), dtype=string)\n",
      "50429 tf.Tensor(4, shape=(), dtype=int32) tf.Tensor(b'/home/Data/ChineseNumbers/\\xe4\\xba\\x8c/Elegant Lotus Flower Font-Simplified Chinesettf.png', shape=(), dtype=string)\n",
      "50430 tf.Tensor(9, shape=(), dtype=int32) tf.Tensor(b'/home/Data/ChineseNumbers/\\xe5\\x9b\\x9b/Ming hei Deng kuan ti Font-Simplified Chinesettf.png', shape=(), dtype=string)\n",
      "63035 tf.Tensor(9, shape=(), dtype=int32) tf.Tensor(b'/home/Data/ChineseNumbers/\\xe5\\x9b\\x9b/Mini Xiao li shu Font-Simplified Chinese ttf.png', shape=(), dtype=string)\n",
      "63036 tf.Tensor(0, shape=(), dtype=int32) tf.Tensor(b'/home/Data/ChineseNumbers/\\xe4\\xb8\\x80/Hua Kang Li kai shu Font-Traditional Chinese0ttf.png', shape=(), dtype=string)\n",
      "63037 tf.Tensor(9, shape=(), dtype=int32) tf.Tensor(b'/home/Data/ChineseNumbers/\\xe5\\x9b\\x9b/Silicon carbide Da hei ti Font-Simplified Chinesettf.png', shape=(), dtype=string)\n",
      "75642 tf.Tensor(9, shape=(), dtype=int32) tf.Tensor(b'/home/Data/ChineseNumbers/\\xe5\\x9b\\x9b/Zhang hai shan Rui xie ti Version 20 Font-Simplified Chinesettf.png', shape=(), dtype=string)\n",
      "75643 tf.Tensor(2, shape=(), dtype=int32) tf.Tensor(b'/home/Data/ChineseNumbers/\\xe4\\xb8\\x89/Da Liang font library\\xc2\\xa8CSimplified Chinese-Traditional Chinesettf.png', shape=(), dtype=string)\n",
      "75644 tf.Tensor(5, shape=(), dtype=int32) tf.Tensor(b'/home/Data/ChineseNumbers/\\xe4\\xba\\x94/Mini Ying bi Xing shu Font-Simplified Chinese ttf.png', shape=(), dtype=string)\n",
      "88249 tf.Tensor(3, shape=(), dtype=int32) tf.Tensor(b'/home/Data/ChineseNumbers/\\xe4\\xb9\\x9d/Font Housekeeper Sheep Chinese Font-Simplified Chinese Fontsttf.png', shape=(), dtype=string)\n",
      "88250 tf.Tensor(2, shape=(), dtype=int32) tf.Tensor(b'/home/Data/ChineseNumbers/\\xe4\\xb8\\x89/Sharp Super Bold Figure(GBK) Chinese Font-Simplified Chinese Fontsttf.png', shape=(), dtype=string)\n",
      "88251 tf.Tensor(7, shape=(), dtype=int32) tf.Tensor(b'/home/Data/ChineseNumbers/\\xe5\\x85\\xad/EPSON Zheng kai shu ti Font-Simplified Chinesettf.png', shape=(), dtype=string)\n",
      "100856 tf.Tensor(6, shape=(), dtype=int32) tf.Tensor(b'/home/Data/ChineseNumbers/\\xe5\\x85\\xab/Xiu ying xi ming chao ti Font-Traditional Chinese0ttf.png', shape=(), dtype=string)\n",
      "100857 tf.Tensor(0, shape=(), dtype=int32) tf.Tensor(b'/home/Data/ChineseNumbers/\\xe4\\xb8\\x80/Fang zheng Kang ti Font-Simplified Chinesettf.png', shape=(), dtype=string)\n",
      "100858 tf.Tensor(7, shape=(), dtype=int32) tf.Tensor(b'/home/Data/ChineseNumbers/\\xe5\\x85\\xad/Super cute jam Font-Simplified Chinesettf.png', shape=(), dtype=string)\n",
      "113463 tf.Tensor(3, shape=(), dtype=int32) tf.Tensor(b'/home/Data/ChineseNumbers/\\xe4\\xb9\\x9d/Kitty rabbit animal Font-Simplified Chinesettf.png', shape=(), dtype=string)\n",
      "113464 tf.Tensor(4, shape=(), dtype=int32) tf.Tensor(b'/home/Data/ChineseNumbers/\\xe4\\xba\\x8c/Zhao Jiu Jiang Pen Kai shu Font-Simplified Chinese ttf.png', shape=(), dtype=string)\n",
      "113465 tf.Tensor(1, shape=(), dtype=int32) tf.Tensor(b'/home/Data/ChineseNumbers/\\xe4\\xb8\\x83/Fang zheng Hei ti Font-Traditional Chinesettf.png', shape=(), dtype=string)\n",
      "126070 tf.Tensor(2, shape=(), dtype=int32) tf.Tensor(b'/home/Data/ChineseNumbers/\\xe4\\xb8\\x89/Mini Radish Font-Simplified Chinesettf.png', shape=(), dtype=string)\n",
      "126071 tf.Tensor(8, shape=(), dtype=int32) tf.Tensor(b'/home/Data/ChineseNumbers/\\xe5\\x8d\\x81/The lovely panda(Medium) Font-Simplified Chinesettf.png', shape=(), dtype=string)\n",
      "126072 tf.Tensor(1, shape=(), dtype=int32) tf.Tensor(b'/home/Data/ChineseNumbers/\\xe4\\xb8\\x83/Ye GenYou small Regular script Font-Simplified Chinesettf.png', shape=(), dtype=string)\n",
      "138677 tf.Tensor(3, shape=(), dtype=int32) tf.Tensor(b'/home/Data/ChineseNumbers/\\xe4\\xb9\\x9d/Han yi Ling xin Fontttf.png', shape=(), dtype=string)\n",
      "138678 tf.Tensor(9, shape=(), dtype=int32) tf.Tensor(b'/home/Data/ChineseNumbers/\\xe5\\x9b\\x9b/Fang zheng Cu hei Font-Traditional Chinesettf.png', shape=(), dtype=string)\n",
      "138679 tf.Tensor(2, shape=(), dtype=int32) tf.Tensor(b'/home/Data/ChineseNumbers/\\xe4\\xb8\\x89/Han yi Gan lan ti Font-Traditional Chinese ttf.png', shape=(), dtype=string)\n",
      "151284 tf.Tensor(5, shape=(), dtype=int32) tf.Tensor(b'/home/Data/ChineseNumbers/\\xe4\\xba\\x94/Bo Yang Xing Shu two Font-Simplified Chinesettf.png', shape=(), dtype=string)\n",
      "151285 tf.Tensor(1, shape=(), dtype=int32) tf.Tensor(b'/home/Data/ChineseNumbers/\\xe4\\xb8\\x83/Prince Bold Figure Font-Simplified Chinese-Traditional Chinesettf.png', shape=(), dtype=string)\n",
      "151286 tf.Tensor(3, shape=(), dtype=int32) tf.Tensor(b'/home/Data/ChineseNumbers/\\xe4\\xb9\\x9d/Sharp Slender Bold Figure Font (CloudHeiXiGBK) -Traditional Chinesettf.png', shape=(), dtype=string)\n",
      "163891 tf.Tensor(3, shape=(), dtype=int32) tf.Tensor(b'/home/Data/ChineseNumbers/\\xe4\\xb9\\x9d/Silicon carbide Die hei ti Font-Simplified Chinesettf.png', shape=(), dtype=string)\n",
      "163892 tf.Tensor(3, shape=(), dtype=int32) tf.Tensor(b'/home/Data/ChineseNumbers/\\xe4\\xb9\\x9d/PingFang22ttf.png', shape=(), dtype=string)\n",
      "163893 tf.Tensor(9, shape=(), dtype=int32) tf.Tensor(b'/home/Data/ChineseNumbers/\\xe5\\x9b\\x9b/Xin Di Chi-bi Maruko(Primary school students handwriting) Font-Simplified Chinesettf.png', shape=(), dtype=string)\n",
      "176498 tf.Tensor(6, shape=(), dtype=int32) tf.Tensor(b'/home/Data/ChineseNumbers/\\xe5\\x85\\xab/Mini Bai qi Font-Simplified Chinesettf.png', shape=(), dtype=string)\n",
      "176499 tf.Tensor(1, shape=(), dtype=int32) tf.Tensor(b'/home/Data/ChineseNumbers/\\xe4\\xb8\\x83/Wen ding Petal Fontttf.png', shape=(), dtype=string)\n",
      "176500 tf.Tensor(8, shape=(), dtype=int32) tf.Tensor(b'/home/Data/ChineseNumbers/\\xe5\\x8d\\x81/Cai Yunhan Qing ye calligraphy Font-Simplified Chinese ttf.png', shape=(), dtype=string)\n",
      "189105 tf.Tensor(9, shape=(), dtype=int32) tf.Tensor(b'/home/Data/ChineseNumbers/\\xe5\\x9b\\x9b/Fang zheng Zhong qian Fontttf.png', shape=(), dtype=string)\n",
      "189106 tf.Tensor(8, shape=(), dtype=int32) tf.Tensor(b'/home/Data/ChineseNumbers/\\xe5\\x8d\\x81/Han yi Match Fontttf.png', shape=(), dtype=string)\n",
      "189107 tf.Tensor(8, shape=(), dtype=int32) tf.Tensor(b'/home/Data/ChineseNumbers/\\xe5\\x8d\\x81/Daiyu Lin Font-Simplified Chinesettf.png', shape=(), dtype=string)\n",
      "201712 tf.Tensor(8, shape=(), dtype=int32) tf.Tensor(b'/home/Data/ChineseNumbers/\\xe5\\x8d\\x81/Lovely child Font-Simplified Chinesettf.png', shape=(), dtype=string)\n",
      "201713 tf.Tensor(4, shape=(), dtype=int32) tf.Tensor(b'/home/Data/ChineseNumbers/\\xe4\\xba\\x8c/Snow World  Butterfly Font-Simplified Chinesettf.png', shape=(), dtype=string)\n",
      "201714 tf.Tensor(0, shape=(), dtype=int32) tf.Tensor(b'/home/Data/ChineseNumbers/\\xe4\\xb8\\x80/Fang zheng Kang ti Font-Traditional Chinesettf.png', shape=(), dtype=string)\n",
      "214319 tf.Tensor(4, shape=(), dtype=int32) tf.Tensor(b'/home/Data/ChineseNumbers/\\xe4\\xba\\x8c/uming0ttf.png', shape=(), dtype=string)\n",
      "214320 tf.Tensor(5, shape=(), dtype=int32) tf.Tensor(b'/home/Data/ChineseNumbers/\\xe4\\xba\\x94/Summer style Font-Simplified Chinesettf.png', shape=(), dtype=string)\n",
      "214321 tf.Tensor(0, shape=(), dtype=int32) tf.Tensor(b'/home/Data/ChineseNumbers/\\xe4\\xb8\\x80/Wen Quan Yi child handwriting Font-Simplified Chinesettf.png', shape=(), dtype=string)\n",
      "226926 tf.Tensor(9, shape=(), dtype=int32) tf.Tensor(b'/home/Data/ChineseNumbers/\\xe5\\x9b\\x9b/Super century Xi jiao zhuan Font - Traditional Chinesettf.png', shape=(), dtype=string)\n",
      "226927 tf.Tensor(8, shape=(), dtype=int32) tf.Tensor(b'/home/Data/ChineseNumbers/\\xe5\\x8d\\x81/MiFu handwritten Ink Brush (Writing Brush) Chinese Font-Traditional Chinesettf.png', shape=(), dtype=string)\n",
      "226928 tf.Tensor(2, shape=(), dtype=int32) tf.Tensor(b\"/home/Data/ChineseNumbers/\\xe4\\xb8\\x89/WeiBo Children's park Font-Simplified Chinesettf.png\", shape=(), dtype=string)\n",
      "239533 tf.Tensor(7, shape=(), dtype=int32) tf.Tensor(b'/home/Data/ChineseNumbers/\\xe5\\x85\\xad/Zhong qi WeiXun Zhen Hard brushes regular script Font-Traditional Chinesettf.png', shape=(), dtype=string)\n",
      "239534 tf.Tensor(1, shape=(), dtype=int32) tf.Tensor(b'/home/Data/ChineseNumbers/\\xe4\\xb8\\x83/Cai Yunhan Ying bi Xing shu calligraphy Font-Simplified Chinesettf.png', shape=(), dtype=string)\n",
      "239535 tf.Tensor(8, shape=(), dtype=int32) tf.Tensor(b'/home/Data/ChineseNumbers/\\xe5\\x8d\\x81/Huai You ti(id-asobi Light)Font- Simplified Chinese0ttf.png', shape=(), dtype=string)\n",
      "0 tf.Tensor(2, shape=(), dtype=int32) tf.Tensor(b'/home/Data/ChineseNumbers/\\xe4\\xb8\\x89/Take off&Good luck Elegant Bold Figure w6 Font-Simplified Chinesettf.png', shape=(), dtype=string)\n",
      "1 tf.Tensor(8, shape=(), dtype=int32) tf.Tensor(b'/home/Data/ChineseNumbers/\\xe5\\x8d\\x81/Fang zheng You xian Font-Traditional Chinesettf.png', shape=(), dtype=string)\n",
      "2 tf.Tensor(3, shape=(), dtype=int32) tf.Tensor(b'/home/Data/ChineseNumbers/\\xe4\\xb9\\x9d/Wen er guang gao Song ti Font-Traditional Chinesettf.png', shape=(), dtype=string)\n",
      "12607 tf.Tensor(2, shape=(), dtype=int32) tf.Tensor(b'/home/Data/ChineseNumbers/\\xe4\\xb8\\x89/Xuke Li Handwriting caricature (v10) Font-Simplified Chinesettf.png', shape=(), dtype=string)\n",
      "12608 tf.Tensor(2, shape=(), dtype=int32) tf.Tensor(b'/home/Data/ChineseNumbers/\\xe4\\xb8\\x89/Mini Zhan bi hei Font-Simplified Chinesettf.png', shape=(), dtype=string)\n",
      "12609 tf.Tensor(6, shape=(), dtype=int32) tf.Tensor(b'/home/Data/ChineseNumbers/\\xe5\\x85\\xab/HanaMinAttf.png', shape=(), dtype=string)\n",
      "25214 tf.Tensor(5, shape=(), dtype=int32) tf.Tensor(b'/home/Data/ChineseNumbers/\\xe4\\xba\\x94/Rose and butterfly Font-Simplified Chinesettf.png', shape=(), dtype=string)\n",
      "25215 tf.Tensor(4, shape=(), dtype=int32) tf.Tensor(b'/home/Data/ChineseNumbers/\\xe4\\xba\\x8c/Classic Sui yi Fontttf.png', shape=(), dtype=string)\n",
      "25216 tf.Tensor(5, shape=(), dtype=int32) tf.Tensor(b'/home/Data/ChineseNumbers/\\xe4\\xba\\x94/Fang zheng Pang wa Font-Traditional Chinesettf.png', shape=(), dtype=string)\n",
      "37821 tf.Tensor(4, shape=(), dtype=int32) tf.Tensor(b'/home/Data/ChineseNumbers/\\xe4\\xba\\x8c/Font Housekeeper Detective Font-Simplified Chinesettf.png', shape=(), dtype=string)\n",
      "37822 tf.Tensor(4, shape=(), dtype=int32) tf.Tensor(b'/home/Data/ChineseNumbers/\\xe4\\xba\\x8c/Plant vines(MGentleHK-Light) Font-Simplified Chinesettf.png', shape=(), dtype=string)\n",
      "37823 tf.Tensor(5, shape=(), dtype=int32) tf.Tensor(b'/home/Data/ChineseNumbers/\\xe4\\xba\\x94/Hua kang Wawa Kong xin ti W5 Font-Traditional Chinese ttf.png', shape=(), dtype=string)\n",
      "50428 tf.Tensor(9, shape=(), dtype=int32) tf.Tensor(b'/home/Data/ChineseNumbers/\\xe5\\x9b\\x9b/Fang zheng Fang song Font-Traditional Chinesettf.png', shape=(), dtype=string)\n",
      "50429 tf.Tensor(4, shape=(), dtype=int32) tf.Tensor(b'/home/Data/ChineseNumbers/\\xe4\\xba\\x8c/Elegant Lotus Flower Font-Simplified Chinesettf.png', shape=(), dtype=string)\n",
      "50430 tf.Tensor(9, shape=(), dtype=int32) tf.Tensor(b'/home/Data/ChineseNumbers/\\xe5\\x9b\\x9b/Ming hei Deng kuan ti Font-Simplified Chinesettf.png', shape=(), dtype=string)\n",
      "63035 tf.Tensor(9, shape=(), dtype=int32) tf.Tensor(b'/home/Data/ChineseNumbers/\\xe5\\x9b\\x9b/Mini Xiao li shu Font-Simplified Chinese ttf.png', shape=(), dtype=string)\n",
      "63036 tf.Tensor(0, shape=(), dtype=int32) tf.Tensor(b'/home/Data/ChineseNumbers/\\xe4\\xb8\\x80/Hua Kang Li kai shu Font-Traditional Chinese0ttf.png', shape=(), dtype=string)\n",
      "63037 tf.Tensor(9, shape=(), dtype=int32) tf.Tensor(b'/home/Data/ChineseNumbers/\\xe5\\x9b\\x9b/Silicon carbide Da hei ti Font-Simplified Chinesettf.png', shape=(), dtype=string)\n",
      "75642 tf.Tensor(9, shape=(), dtype=int32) tf.Tensor(b'/home/Data/ChineseNumbers/\\xe5\\x9b\\x9b/Zhang hai shan Rui xie ti Version 20 Font-Simplified Chinesettf.png', shape=(), dtype=string)\n",
      "75643 tf.Tensor(2, shape=(), dtype=int32) tf.Tensor(b'/home/Data/ChineseNumbers/\\xe4\\xb8\\x89/Da Liang font library\\xc2\\xa8CSimplified Chinese-Traditional Chinesettf.png', shape=(), dtype=string)\n",
      "75644 tf.Tensor(5, shape=(), dtype=int32) tf.Tensor(b'/home/Data/ChineseNumbers/\\xe4\\xba\\x94/Mini Ying bi Xing shu Font-Simplified Chinese ttf.png', shape=(), dtype=string)\n",
      "88249 tf.Tensor(3, shape=(), dtype=int32) tf.Tensor(b'/home/Data/ChineseNumbers/\\xe4\\xb9\\x9d/Font Housekeeper Sheep Chinese Font-Simplified Chinese Fontsttf.png', shape=(), dtype=string)\n",
      "88250 tf.Tensor(2, shape=(), dtype=int32) tf.Tensor(b'/home/Data/ChineseNumbers/\\xe4\\xb8\\x89/Sharp Super Bold Figure(GBK) Chinese Font-Simplified Chinese Fontsttf.png', shape=(), dtype=string)\n",
      "88251 tf.Tensor(7, shape=(), dtype=int32) tf.Tensor(b'/home/Data/ChineseNumbers/\\xe5\\x85\\xad/EPSON Zheng kai shu ti Font-Simplified Chinesettf.png', shape=(), dtype=string)\n",
      "100856 tf.Tensor(6, shape=(), dtype=int32) tf.Tensor(b'/home/Data/ChineseNumbers/\\xe5\\x85\\xab/Xiu ying xi ming chao ti Font-Traditional Chinese0ttf.png', shape=(), dtype=string)\n",
      "100857 tf.Tensor(0, shape=(), dtype=int32) tf.Tensor(b'/home/Data/ChineseNumbers/\\xe4\\xb8\\x80/Fang zheng Kang ti Font-Simplified Chinesettf.png', shape=(), dtype=string)\n",
      "100858 tf.Tensor(7, shape=(), dtype=int32) tf.Tensor(b'/home/Data/ChineseNumbers/\\xe5\\x85\\xad/Super cute jam Font-Simplified Chinesettf.png', shape=(), dtype=string)\n",
      "113463 tf.Tensor(3, shape=(), dtype=int32) tf.Tensor(b'/home/Data/ChineseNumbers/\\xe4\\xb9\\x9d/Kitty rabbit animal Font-Simplified Chinesettf.png', shape=(), dtype=string)\n",
      "113464 tf.Tensor(4, shape=(), dtype=int32) tf.Tensor(b'/home/Data/ChineseNumbers/\\xe4\\xba\\x8c/Zhao Jiu Jiang Pen Kai shu Font-Simplified Chinese ttf.png', shape=(), dtype=string)\n",
      "113465 tf.Tensor(1, shape=(), dtype=int32) tf.Tensor(b'/home/Data/ChineseNumbers/\\xe4\\xb8\\x83/Fang zheng Hei ti Font-Traditional Chinesettf.png', shape=(), dtype=string)\n",
      "126070 tf.Tensor(2, shape=(), dtype=int32) tf.Tensor(b'/home/Data/ChineseNumbers/\\xe4\\xb8\\x89/Mini Radish Font-Simplified Chinesettf.png', shape=(), dtype=string)\n",
      "126071 tf.Tensor(8, shape=(), dtype=int32) tf.Tensor(b'/home/Data/ChineseNumbers/\\xe5\\x8d\\x81/The lovely panda(Medium) Font-Simplified Chinesettf.png', shape=(), dtype=string)\n",
      "126072 tf.Tensor(1, shape=(), dtype=int32) tf.Tensor(b'/home/Data/ChineseNumbers/\\xe4\\xb8\\x83/Ye GenYou small Regular script Font-Simplified Chinesettf.png', shape=(), dtype=string)\n",
      "138677 tf.Tensor(3, shape=(), dtype=int32) tf.Tensor(b'/home/Data/ChineseNumbers/\\xe4\\xb9\\x9d/Han yi Ling xin Fontttf.png', shape=(), dtype=string)\n",
      "138678 tf.Tensor(9, shape=(), dtype=int32) tf.Tensor(b'/home/Data/ChineseNumbers/\\xe5\\x9b\\x9b/Fang zheng Cu hei Font-Traditional Chinesettf.png', shape=(), dtype=string)\n",
      "138679 tf.Tensor(2, shape=(), dtype=int32) tf.Tensor(b'/home/Data/ChineseNumbers/\\xe4\\xb8\\x89/Han yi Gan lan ti Font-Traditional Chinese ttf.png', shape=(), dtype=string)\n",
      "151284 tf.Tensor(5, shape=(), dtype=int32) tf.Tensor(b'/home/Data/ChineseNumbers/\\xe4\\xba\\x94/Bo Yang Xing Shu two Font-Simplified Chinesettf.png', shape=(), dtype=string)\n",
      "151285 tf.Tensor(1, shape=(), dtype=int32) tf.Tensor(b'/home/Data/ChineseNumbers/\\xe4\\xb8\\x83/Prince Bold Figure Font-Simplified Chinese-Traditional Chinesettf.png', shape=(), dtype=string)\n",
      "151286 tf.Tensor(3, shape=(), dtype=int32) tf.Tensor(b'/home/Data/ChineseNumbers/\\xe4\\xb9\\x9d/Sharp Slender Bold Figure Font (CloudHeiXiGBK) -Traditional Chinesettf.png', shape=(), dtype=string)\n",
      "163891 tf.Tensor(3, shape=(), dtype=int32) tf.Tensor(b'/home/Data/ChineseNumbers/\\xe4\\xb9\\x9d/Silicon carbide Die hei ti Font-Simplified Chinesettf.png', shape=(), dtype=string)\n",
      "163892 tf.Tensor(3, shape=(), dtype=int32) tf.Tensor(b'/home/Data/ChineseNumbers/\\xe4\\xb9\\x9d/PingFang22ttf.png', shape=(), dtype=string)\n",
      "163893 tf.Tensor(9, shape=(), dtype=int32) tf.Tensor(b'/home/Data/ChineseNumbers/\\xe5\\x9b\\x9b/Xin Di Chi-bi Maruko(Primary school students handwriting) Font-Simplified Chinesettf.png', shape=(), dtype=string)\n",
      "176498 tf.Tensor(6, shape=(), dtype=int32) tf.Tensor(b'/home/Data/ChineseNumbers/\\xe5\\x85\\xab/Mini Bai qi Font-Simplified Chinesettf.png', shape=(), dtype=string)\n",
      "176499 tf.Tensor(1, shape=(), dtype=int32) tf.Tensor(b'/home/Data/ChineseNumbers/\\xe4\\xb8\\x83/Wen ding Petal Fontttf.png', shape=(), dtype=string)\n",
      "176500 tf.Tensor(8, shape=(), dtype=int32) tf.Tensor(b'/home/Data/ChineseNumbers/\\xe5\\x8d\\x81/Cai Yunhan Qing ye calligraphy Font-Simplified Chinese ttf.png', shape=(), dtype=string)\n",
      "189105 tf.Tensor(9, shape=(), dtype=int32) tf.Tensor(b'/home/Data/ChineseNumbers/\\xe5\\x9b\\x9b/Fang zheng Zhong qian Fontttf.png', shape=(), dtype=string)\n",
      "189106 tf.Tensor(8, shape=(), dtype=int32) tf.Tensor(b'/home/Data/ChineseNumbers/\\xe5\\x8d\\x81/Han yi Match Fontttf.png', shape=(), dtype=string)\n",
      "189107 tf.Tensor(8, shape=(), dtype=int32) tf.Tensor(b'/home/Data/ChineseNumbers/\\xe5\\x8d\\x81/Daiyu Lin Font-Simplified Chinesettf.png', shape=(), dtype=string)\n",
      "201712 tf.Tensor(8, shape=(), dtype=int32) tf.Tensor(b'/home/Data/ChineseNumbers/\\xe5\\x8d\\x81/Lovely child Font-Simplified Chinesettf.png', shape=(), dtype=string)\n",
      "201713 tf.Tensor(4, shape=(), dtype=int32) tf.Tensor(b'/home/Data/ChineseNumbers/\\xe4\\xba\\x8c/Snow World  Butterfly Font-Simplified Chinesettf.png', shape=(), dtype=string)\n",
      "201714 tf.Tensor(0, shape=(), dtype=int32) tf.Tensor(b'/home/Data/ChineseNumbers/\\xe4\\xb8\\x80/Fang zheng Kang ti Font-Traditional Chinesettf.png', shape=(), dtype=string)\n",
      "214319 tf.Tensor(4, shape=(), dtype=int32) tf.Tensor(b'/home/Data/ChineseNumbers/\\xe4\\xba\\x8c/uming0ttf.png', shape=(), dtype=string)\n",
      "214320 tf.Tensor(5, shape=(), dtype=int32) tf.Tensor(b'/home/Data/ChineseNumbers/\\xe4\\xba\\x94/Summer style Font-Simplified Chinesettf.png', shape=(), dtype=string)\n",
      "214321 tf.Tensor(0, shape=(), dtype=int32) tf.Tensor(b'/home/Data/ChineseNumbers/\\xe4\\xb8\\x80/Wen Quan Yi child handwriting Font-Simplified Chinesettf.png', shape=(), dtype=string)\n",
      "226926 tf.Tensor(9, shape=(), dtype=int32) tf.Tensor(b'/home/Data/ChineseNumbers/\\xe5\\x9b\\x9b/Super century Xi jiao zhuan Font - Traditional Chinesettf.png', shape=(), dtype=string)\n",
      "226927 tf.Tensor(8, shape=(), dtype=int32) tf.Tensor(b'/home/Data/ChineseNumbers/\\xe5\\x8d\\x81/MiFu handwritten Ink Brush (Writing Brush) Chinese Font-Traditional Chinesettf.png', shape=(), dtype=string)\n",
      "226928 tf.Tensor(2, shape=(), dtype=int32) tf.Tensor(b\"/home/Data/ChineseNumbers/\\xe4\\xb8\\x89/WeiBo Children's park Font-Simplified Chinesettf.png\", shape=(), dtype=string)\n",
      "239533 tf.Tensor(7, shape=(), dtype=int32) tf.Tensor(b'/home/Data/ChineseNumbers/\\xe5\\x85\\xad/Zhong qi WeiXun Zhen Hard brushes regular script Font-Traditional Chinesettf.png', shape=(), dtype=string)\n",
      "239534 tf.Tensor(1, shape=(), dtype=int32) tf.Tensor(b'/home/Data/ChineseNumbers/\\xe4\\xb8\\x83/Cai Yunhan Ying bi Xing shu calligraphy Font-Simplified Chinesettf.png', shape=(), dtype=string)\n",
      "239535 tf.Tensor(8, shape=(), dtype=int32) tf.Tensor(b'/home/Data/ChineseNumbers/\\xe5\\x8d\\x81/Huai You ti(id-asobi Light)Font- Simplified Chinese0ttf.png', shape=(), dtype=string)\n",
      "0 tf.Tensor(2, shape=(), dtype=int32) tf.Tensor(b'/home/Data/ChineseNumbers/\\xe4\\xb8\\x89/Take off&Good luck Elegant Bold Figure w6 Font-Simplified Chinesettf.png', shape=(), dtype=string)\n",
      "1 tf.Tensor(8, shape=(), dtype=int32) tf.Tensor(b'/home/Data/ChineseNumbers/\\xe5\\x8d\\x81/Fang zheng You xian Font-Traditional Chinesettf.png', shape=(), dtype=string)\n",
      "2 tf.Tensor(3, shape=(), dtype=int32) tf.Tensor(b'/home/Data/ChineseNumbers/\\xe4\\xb9\\x9d/Wen er guang gao Song ti Font-Traditional Chinesettf.png', shape=(), dtype=string)\n",
      "12607 tf.Tensor(2, shape=(), dtype=int32) tf.Tensor(b'/home/Data/ChineseNumbers/\\xe4\\xb8\\x89/Xuke Li Handwriting caricature (v10) Font-Simplified Chinesettf.png', shape=(), dtype=string)\n",
      "12608 tf.Tensor(2, shape=(), dtype=int32) tf.Tensor(b'/home/Data/ChineseNumbers/\\xe4\\xb8\\x89/Mini Zhan bi hei Font-Simplified Chinesettf.png', shape=(), dtype=string)\n",
      "12609 tf.Tensor(6, shape=(), dtype=int32) tf.Tensor(b'/home/Data/ChineseNumbers/\\xe5\\x85\\xab/HanaMinAttf.png', shape=(), dtype=string)\n",
      "25214 tf.Tensor(5, shape=(), dtype=int32) tf.Tensor(b'/home/Data/ChineseNumbers/\\xe4\\xba\\x94/Rose and butterfly Font-Simplified Chinesettf.png', shape=(), dtype=string)\n",
      "25215 tf.Tensor(4, shape=(), dtype=int32) tf.Tensor(b'/home/Data/ChineseNumbers/\\xe4\\xba\\x8c/Classic Sui yi Fontttf.png', shape=(), dtype=string)\n",
      "25216 tf.Tensor(5, shape=(), dtype=int32) tf.Tensor(b'/home/Data/ChineseNumbers/\\xe4\\xba\\x94/Fang zheng Pang wa Font-Traditional Chinesettf.png', shape=(), dtype=string)\n",
      "37821 tf.Tensor(4, shape=(), dtype=int32) tf.Tensor(b'/home/Data/ChineseNumbers/\\xe4\\xba\\x8c/Font Housekeeper Detective Font-Simplified Chinesettf.png', shape=(), dtype=string)\n",
      "37822 tf.Tensor(4, shape=(), dtype=int32) tf.Tensor(b'/home/Data/ChineseNumbers/\\xe4\\xba\\x8c/Plant vines(MGentleHK-Light) Font-Simplified Chinesettf.png', shape=(), dtype=string)\n",
      "37823 tf.Tensor(5, shape=(), dtype=int32) tf.Tensor(b'/home/Data/ChineseNumbers/\\xe4\\xba\\x94/Hua kang Wawa Kong xin ti W5 Font-Traditional Chinese ttf.png', shape=(), dtype=string)\n",
      "50428 tf.Tensor(9, shape=(), dtype=int32) tf.Tensor(b'/home/Data/ChineseNumbers/\\xe5\\x9b\\x9b/Fang zheng Fang song Font-Traditional Chinesettf.png', shape=(), dtype=string)\n",
      "50429 tf.Tensor(4, shape=(), dtype=int32) tf.Tensor(b'/home/Data/ChineseNumbers/\\xe4\\xba\\x8c/Elegant Lotus Flower Font-Simplified Chinesettf.png', shape=(), dtype=string)\n",
      "50430 tf.Tensor(9, shape=(), dtype=int32) tf.Tensor(b'/home/Data/ChineseNumbers/\\xe5\\x9b\\x9b/Ming hei Deng kuan ti Font-Simplified Chinesettf.png', shape=(), dtype=string)\n",
      "63035 tf.Tensor(9, shape=(), dtype=int32) tf.Tensor(b'/home/Data/ChineseNumbers/\\xe5\\x9b\\x9b/Mini Xiao li shu Font-Simplified Chinese ttf.png', shape=(), dtype=string)\n",
      "63036 tf.Tensor(0, shape=(), dtype=int32) tf.Tensor(b'/home/Data/ChineseNumbers/\\xe4\\xb8\\x80/Hua Kang Li kai shu Font-Traditional Chinese0ttf.png', shape=(), dtype=string)\n",
      "63037 tf.Tensor(9, shape=(), dtype=int32) tf.Tensor(b'/home/Data/ChineseNumbers/\\xe5\\x9b\\x9b/Silicon carbide Da hei ti Font-Simplified Chinesettf.png', shape=(), dtype=string)\n",
      "75642 tf.Tensor(9, shape=(), dtype=int32) tf.Tensor(b'/home/Data/ChineseNumbers/\\xe5\\x9b\\x9b/Zhang hai shan Rui xie ti Version 20 Font-Simplified Chinesettf.png', shape=(), dtype=string)\n",
      "75643 tf.Tensor(2, shape=(), dtype=int32) tf.Tensor(b'/home/Data/ChineseNumbers/\\xe4\\xb8\\x89/Da Liang font library\\xc2\\xa8CSimplified Chinese-Traditional Chinesettf.png', shape=(), dtype=string)\n",
      "75644 tf.Tensor(5, shape=(), dtype=int32) tf.Tensor(b'/home/Data/ChineseNumbers/\\xe4\\xba\\x94/Mini Ying bi Xing shu Font-Simplified Chinese ttf.png', shape=(), dtype=string)\n",
      "88249 tf.Tensor(3, shape=(), dtype=int32) tf.Tensor(b'/home/Data/ChineseNumbers/\\xe4\\xb9\\x9d/Font Housekeeper Sheep Chinese Font-Simplified Chinese Fontsttf.png', shape=(), dtype=string)\n",
      "88250 tf.Tensor(2, shape=(), dtype=int32) tf.Tensor(b'/home/Data/ChineseNumbers/\\xe4\\xb8\\x89/Sharp Super Bold Figure(GBK) Chinese Font-Simplified Chinese Fontsttf.png', shape=(), dtype=string)\n",
      "88251 tf.Tensor(7, shape=(), dtype=int32) tf.Tensor(b'/home/Data/ChineseNumbers/\\xe5\\x85\\xad/EPSON Zheng kai shu ti Font-Simplified Chinesettf.png', shape=(), dtype=string)\n",
      "100856 tf.Tensor(6, shape=(), dtype=int32) tf.Tensor(b'/home/Data/ChineseNumbers/\\xe5\\x85\\xab/Xiu ying xi ming chao ti Font-Traditional Chinese0ttf.png', shape=(), dtype=string)\n",
      "100857 tf.Tensor(0, shape=(), dtype=int32) tf.Tensor(b'/home/Data/ChineseNumbers/\\xe4\\xb8\\x80/Fang zheng Kang ti Font-Simplified Chinesettf.png', shape=(), dtype=string)\n",
      "100858 tf.Tensor(7, shape=(), dtype=int32) tf.Tensor(b'/home/Data/ChineseNumbers/\\xe5\\x85\\xad/Super cute jam Font-Simplified Chinesettf.png', shape=(), dtype=string)\n",
      "113463 tf.Tensor(3, shape=(), dtype=int32) tf.Tensor(b'/home/Data/ChineseNumbers/\\xe4\\xb9\\x9d/Kitty rabbit animal Font-Simplified Chinesettf.png', shape=(), dtype=string)\n",
      "113464 tf.Tensor(4, shape=(), dtype=int32) tf.Tensor(b'/home/Data/ChineseNumbers/\\xe4\\xba\\x8c/Zhao Jiu Jiang Pen Kai shu Font-Simplified Chinese ttf.png', shape=(), dtype=string)\n",
      "113465 tf.Tensor(1, shape=(), dtype=int32) tf.Tensor(b'/home/Data/ChineseNumbers/\\xe4\\xb8\\x83/Fang zheng Hei ti Font-Traditional Chinesettf.png', shape=(), dtype=string)\n",
      "126070 tf.Tensor(2, shape=(), dtype=int32) tf.Tensor(b'/home/Data/ChineseNumbers/\\xe4\\xb8\\x89/Mini Radish Font-Simplified Chinesettf.png', shape=(), dtype=string)\n",
      "126071 tf.Tensor(8, shape=(), dtype=int32) tf.Tensor(b'/home/Data/ChineseNumbers/\\xe5\\x8d\\x81/The lovely panda(Medium) Font-Simplified Chinesettf.png', shape=(), dtype=string)\n",
      "126072 tf.Tensor(1, shape=(), dtype=int32) tf.Tensor(b'/home/Data/ChineseNumbers/\\xe4\\xb8\\x83/Ye GenYou small Regular script Font-Simplified Chinesettf.png', shape=(), dtype=string)\n",
      "138677 tf.Tensor(3, shape=(), dtype=int32) tf.Tensor(b'/home/Data/ChineseNumbers/\\xe4\\xb9\\x9d/Han yi Ling xin Fontttf.png', shape=(), dtype=string)\n",
      "138678 tf.Tensor(9, shape=(), dtype=int32) tf.Tensor(b'/home/Data/ChineseNumbers/\\xe5\\x9b\\x9b/Fang zheng Cu hei Font-Traditional Chinesettf.png', shape=(), dtype=string)\n",
      "138679 tf.Tensor(2, shape=(), dtype=int32) tf.Tensor(b'/home/Data/ChineseNumbers/\\xe4\\xb8\\x89/Han yi Gan lan ti Font-Traditional Chinese ttf.png', shape=(), dtype=string)\n"
     ]
    },
    {
     "ename": "KeyboardInterrupt",
     "evalue": "",
     "output_type": "error",
     "traceback": [
      "\u001b[0;31m---------------------------------------------------------------------------\u001b[0m",
      "\u001b[0;31mKeyboardInterrupt\u001b[0m                         Traceback (most recent call last)",
      "\u001b[0;32m<ipython-input-5-b29e270972ea>\u001b[0m in \u001b[0;36m<module>\u001b[0;34m\u001b[0m\n\u001b[1;32m      6\u001b[0m \u001b[0mpath_label_ds\u001b[0m \u001b[0;34m=\u001b[0m \u001b[0mpath_label_ds\u001b[0m\u001b[0;34m.\u001b[0m\u001b[0mcache\u001b[0m\u001b[0;34m(\u001b[0m\u001b[0mfilename\u001b[0m\u001b[0;34m=\u001b[0m\u001b[0;34m'./cache.tf-path'\u001b[0m\u001b[0;34m)\u001b[0m\u001b[0;34m\u001b[0m\u001b[0m\n\u001b[1;32m      7\u001b[0m \u001b[0;32mfor\u001b[0m \u001b[0mepoch\u001b[0m \u001b[0;32min\u001b[0m \u001b[0mrange\u001b[0m\u001b[0;34m(\u001b[0m\u001b[0;36m3\u001b[0m\u001b[0;34m)\u001b[0m\u001b[0;34m:\u001b[0m\u001b[0;34m\u001b[0m\u001b[0m\n\u001b[0;32m----> 8\u001b[0;31m     \u001b[0;32mfor\u001b[0m \u001b[0mi\u001b[0m\u001b[0;34m,\u001b[0m \u001b[0;34m(\u001b[0m\u001b[0mpath\u001b[0m\u001b[0;34m,\u001b[0m \u001b[0mlabel\u001b[0m\u001b[0;34m)\u001b[0m \u001b[0;32min\u001b[0m \u001b[0menumerate\u001b[0m\u001b[0;34m(\u001b[0m\u001b[0mpath_label_ds\u001b[0m\u001b[0;34m)\u001b[0m\u001b[0;34m:\u001b[0m\u001b[0;34m\u001b[0m\u001b[0m\n\u001b[0m\u001b[1;32m      9\u001b[0m         \u001b[0;32mif\u001b[0m \u001b[0mi\u001b[0m \u001b[0;34m%\u001b[0m \u001b[0;36m12607\u001b[0m \u001b[0;34m==\u001b[0m \u001b[0;36m0\u001b[0m\u001b[0;34m:\u001b[0m\u001b[0;34m\u001b[0m\u001b[0m\n\u001b[1;32m     10\u001b[0m             \u001b[0mprint\u001b[0m\u001b[0;34m(\u001b[0m\u001b[0mi\u001b[0m\u001b[0;34m,\u001b[0m \u001b[0mlabel\u001b[0m\u001b[0;34m,\u001b[0m \u001b[0mpath\u001b[0m\u001b[0;34m)\u001b[0m\u001b[0;34m\u001b[0m\u001b[0m\n",
      "\u001b[0;32m~/venv/lib/python3.5/site-packages/tensorflow/python/data/ops/iterator_ops.py\u001b[0m in \u001b[0;36m__next__\u001b[0;34m(self)\u001b[0m\n\u001b[1;32m    544\u001b[0m \u001b[0;34m\u001b[0m\u001b[0m\n\u001b[1;32m    545\u001b[0m   \u001b[0;32mdef\u001b[0m \u001b[0m__next__\u001b[0m\u001b[0;34m(\u001b[0m\u001b[0mself\u001b[0m\u001b[0;34m)\u001b[0m\u001b[0;34m:\u001b[0m  \u001b[0;31m# For Python 3 compatibility\u001b[0m\u001b[0;34m\u001b[0m\u001b[0m\n\u001b[0;32m--> 546\u001b[0;31m     \u001b[0;32mreturn\u001b[0m \u001b[0mself\u001b[0m\u001b[0;34m.\u001b[0m\u001b[0mnext\u001b[0m\u001b[0;34m(\u001b[0m\u001b[0;34m)\u001b[0m\u001b[0;34m\u001b[0m\u001b[0m\n\u001b[0m\u001b[1;32m    547\u001b[0m \u001b[0;34m\u001b[0m\u001b[0m\n\u001b[1;32m    548\u001b[0m   \u001b[0;32mdef\u001b[0m \u001b[0m_next_internal\u001b[0m\u001b[0;34m(\u001b[0m\u001b[0mself\u001b[0m\u001b[0;34m)\u001b[0m\u001b[0;34m:\u001b[0m\u001b[0;34m\u001b[0m\u001b[0m\n",
      "\u001b[0;32m~/venv/lib/python3.5/site-packages/tensorflow/python/data/ops/iterator_ops.py\u001b[0m in \u001b[0;36mnext\u001b[0;34m(self)\u001b[0m\n\u001b[1;32m    573\u001b[0m     \"\"\"\n\u001b[1;32m    574\u001b[0m     \u001b[0;32mtry\u001b[0m\u001b[0;34m:\u001b[0m\u001b[0;34m\u001b[0m\u001b[0m\n\u001b[0;32m--> 575\u001b[0;31m       \u001b[0;32mreturn\u001b[0m \u001b[0mself\u001b[0m\u001b[0;34m.\u001b[0m\u001b[0m_next_internal\u001b[0m\u001b[0;34m(\u001b[0m\u001b[0;34m)\u001b[0m\u001b[0;34m\u001b[0m\u001b[0m\n\u001b[0m\u001b[1;32m    576\u001b[0m     \u001b[0;32mexcept\u001b[0m \u001b[0merrors\u001b[0m\u001b[0;34m.\u001b[0m\u001b[0mOutOfRangeError\u001b[0m\u001b[0;34m:\u001b[0m\u001b[0;34m\u001b[0m\u001b[0m\n\u001b[1;32m    577\u001b[0m       \u001b[0;32mraise\u001b[0m \u001b[0mStopIteration\u001b[0m\u001b[0;34m\u001b[0m\u001b[0m\n",
      "\u001b[0;32m~/venv/lib/python3.5/site-packages/tensorflow/python/data/ops/iterator_ops.py\u001b[0m in \u001b[0;36m_next_internal\u001b[0;34m(self)\u001b[0m\n\u001b[1;32m    567\u001b[0m             output_shapes=self._flat_output_shapes)\n\u001b[1;32m    568\u001b[0m \u001b[0;34m\u001b[0m\u001b[0m\n\u001b[0;32m--> 569\u001b[0;31m       \u001b[0;32mreturn\u001b[0m \u001b[0mself\u001b[0m\u001b[0;34m.\u001b[0m\u001b[0m_structure\u001b[0m\u001b[0;34m.\u001b[0m\u001b[0m_from_compatible_tensor_list\u001b[0m\u001b[0;34m(\u001b[0m\u001b[0mret\u001b[0m\u001b[0;34m)\u001b[0m  \u001b[0;31m# pylint: disable=protected-access\u001b[0m\u001b[0;34m\u001b[0m\u001b[0m\n\u001b[0m\u001b[1;32m    570\u001b[0m \u001b[0;34m\u001b[0m\u001b[0m\n\u001b[1;32m    571\u001b[0m   \u001b[0;32mdef\u001b[0m \u001b[0mnext\u001b[0m\u001b[0;34m(\u001b[0m\u001b[0mself\u001b[0m\u001b[0;34m)\u001b[0m\u001b[0;34m:\u001b[0m\u001b[0;34m\u001b[0m\u001b[0m\n",
      "\u001b[0;32m/usr/lib/python3.5/contextlib.py\u001b[0m in \u001b[0;36m__exit__\u001b[0;34m(self, type, value, traceback)\u001b[0m\n\u001b[1;32m     64\u001b[0m         \u001b[0;32mif\u001b[0m \u001b[0mtype\u001b[0m \u001b[0;32mis\u001b[0m \u001b[0;32mNone\u001b[0m\u001b[0;34m:\u001b[0m\u001b[0;34m\u001b[0m\u001b[0m\n\u001b[1;32m     65\u001b[0m             \u001b[0;32mtry\u001b[0m\u001b[0;34m:\u001b[0m\u001b[0;34m\u001b[0m\u001b[0m\n\u001b[0;32m---> 66\u001b[0;31m                 \u001b[0mnext\u001b[0m\u001b[0;34m(\u001b[0m\u001b[0mself\u001b[0m\u001b[0;34m.\u001b[0m\u001b[0mgen\u001b[0m\u001b[0;34m)\u001b[0m\u001b[0;34m\u001b[0m\u001b[0m\n\u001b[0m\u001b[1;32m     67\u001b[0m             \u001b[0;32mexcept\u001b[0m \u001b[0mStopIteration\u001b[0m\u001b[0;34m:\u001b[0m\u001b[0;34m\u001b[0m\u001b[0m\n\u001b[1;32m     68\u001b[0m                 \u001b[0;32mreturn\u001b[0m\u001b[0;34m\u001b[0m\u001b[0m\n",
      "\u001b[0;32m~/venv/lib/python3.5/site-packages/tensorflow/python/eager/context.py\u001b[0m in \u001b[0;36mexecution_mode\u001b[0;34m(self, mode)\u001b[0m\n\u001b[1;32m    544\u001b[0m       \u001b[0;32myield\u001b[0m\u001b[0;34m\u001b[0m\u001b[0m\n\u001b[1;32m    545\u001b[0m     \u001b[0;32mfinally\u001b[0m\u001b[0;34m:\u001b[0m\u001b[0;34m\u001b[0m\u001b[0m\n\u001b[0;32m--> 546\u001b[0;31m       \u001b[0mself\u001b[0m\u001b[0;34m.\u001b[0m\u001b[0mset_execution_mode\u001b[0m\u001b[0;34m(\u001b[0m\u001b[0mold_mode\u001b[0m\u001b[0;34m)\u001b[0m\u001b[0;34m\u001b[0m\u001b[0m\n\u001b[0m\u001b[1;32m    547\u001b[0m \u001b[0;34m\u001b[0m\u001b[0m\n\u001b[1;32m    548\u001b[0m   \u001b[0;32mdef\u001b[0m \u001b[0mget_function_call_options\u001b[0m\u001b[0;34m(\u001b[0m\u001b[0mself\u001b[0m\u001b[0;34m)\u001b[0m\u001b[0;34m:\u001b[0m\u001b[0;34m\u001b[0m\u001b[0m\n",
      "\u001b[0;32m~/venv/lib/python3.5/site-packages/tensorflow/python/eager/context.py\u001b[0m in \u001b[0;36mset_execution_mode\u001b[0;34m(self, mode)\u001b[0m\n\u001b[1;32m    528\u001b[0m   \u001b[0;32mdef\u001b[0m \u001b[0mset_execution_mode\u001b[0m\u001b[0;34m(\u001b[0m\u001b[0mself\u001b[0m\u001b[0;34m,\u001b[0m \u001b[0mmode\u001b[0m\u001b[0;34m)\u001b[0m\u001b[0;34m:\u001b[0m\u001b[0;34m\u001b[0m\u001b[0m\n\u001b[1;32m    529\u001b[0m     \u001b[0;34m\"\"\"Sets execution mode for current thread.\"\"\"\u001b[0m\u001b[0;34m\u001b[0m\u001b[0m\n\u001b[0;32m--> 530\u001b[0;31m     \u001b[0;32mif\u001b[0m \u001b[0mmode\u001b[0m \u001b[0;32mnot\u001b[0m \u001b[0;32min\u001b[0m \u001b[0;34m(\u001b[0m\u001b[0;32mNone\u001b[0m\u001b[0;34m,\u001b[0m \u001b[0mSYNC\u001b[0m\u001b[0;34m,\u001b[0m \u001b[0mASYNC\u001b[0m\u001b[0;34m)\u001b[0m\u001b[0;34m:\u001b[0m\u001b[0;34m\u001b[0m\u001b[0m\n\u001b[0m\u001b[1;32m    531\u001b[0m       raise ValueError(\n\u001b[1;32m    532\u001b[0m           \"Execution mode should be None/SYNC/ASYNC. Got %s\" % mode)\n",
      "\u001b[0;31mKeyboardInterrupt\u001b[0m: "
     ]
    }
   ],
   "source": [
    "# Extract\n",
    "path_label_ds = tf.data.Dataset.from_tensor_slices((all_image_paths, all_image_labels))\n",
    "\n",
    "# Transform\n",
    "path_label_ds = path_label_ds.apply(tf.data.experimental.shuffle_and_repeat(buffer_size=image_count, count=NUM_EPOCHS))\n",
    "path_label_ds = path_label_ds.cache(filename='./cache.tf-path')\n",
    "for epoch in range(3):\n",
    "    for i, (path, label) in enumerate(path_label_ds):\n",
    "        if i % 12607 == 0:\n",
    "            print(i, label, path)\n",
    "        elif i % 12607 == 1:\n",
    "            print(i, label, path)\n",
    "        elif i % 12607 == 2:\n",
    "            print(i, label, path)\n",
    "\n",
    "image_label_ds = path_label_ds.map(load_and_preprocess_from_path_label, num_parallel_calls=4)\n",
    "image_label_ds = image_label_ds.batch(BATCH_SIZE)\n",
    "\n",
    "# Load\n",
    "image_label_ds = image_label_ds.cache(filename='./cache.tf-image')\n",
    "image_label_ds = image_label_ds.prefetch(buffer_size=10) # Only on CPU\n",
    "#image_label_ds = image_label_ds.apply(tf.data.experimental.prefetch_to_device(device=\"/gpu:0\", buffer_size=1)) # Must be final Dataset in input pipeline\n",
    "timeit(image_label_ds)"
   ]
  },
  {
   "cell_type": "code",
   "execution_count": null,
   "metadata": {},
   "outputs": [],
   "source": [
    "import time\n",
    "import pathlib\n",
    "img_path = \"/home/Data/CharactersTrimPad28/\"\n",
    "img_path = \"/home/Data/ChineseNumbers/\"\n",
    "data_root = pathlib.Path(img_path)"
   ]
  },
  {
   "cell_type": "code",
   "execution_count": 13,
   "metadata": {},
   "outputs": [
    {
     "name": "stdout",
     "output_type": "stream",
     "text": [
      "3.23 s\n",
      "12606 paths: 4.38 s"
     ]
    }
   ],
   "source": [
    "start = time.time()\n",
    "\n",
    "# Extract\n",
    "all_image_paths = [str(path) for path in list(data_root.glob('*/*'))]\n",
    "image_count = len(all_image_paths)\n",
    "\n",
    "label_names = sorted(item.name for item in data_root.glob('*/') if item.is_dir())\n",
    "label_to_index = dict((name, index) for index,name in enumerate(label_names))\n",
    "all_image_labels = [label_to_index[pathlib.Path(path).parent.name]\n",
    "                    for path in all_image_paths]\n",
    "\n",
    "path_label_ds = tf.data.Dataset.from_tensor_slices((all_image_paths, all_image_labels))\n",
    "\n",
    "print(\"{:.2f} s\".format(time.time()-start))\n",
    "for i, (path, label) in enumerate(path_label_ds):\n",
    "    if i % 100 == 0:\n",
    "        print(\"\\r{} paths: {:.2f} s\".format(i, time.time()-start), end='', flush=True)\n",
    "print(\"\\r{} paths: {:.2f} s\".format(i, time.time()-start), end='', flush=True)"
   ]
  },
  {
   "cell_type": "code",
   "execution_count": 7,
   "metadata": {},
   "outputs": [],
   "source": [
    "def get_files(dir_path, label):\n",
    "    globbed = tf.string_join([dir_path, '/*.png'])\n",
    "    files = tf.matching_files(globbed)\n",
    "    \n",
    "    num_files = tf.shape(files)[0] # in the directory\n",
    "    labels = tf.tile([label], [num_files, ]) # expand label to all files\n",
    "    return tf.data.Dataset.from_tensor_slices((files, labels))"
   ]
  },
  {
   "cell_type": "code",
   "execution_count": 12,
   "metadata": {},
   "outputs": [
    {
     "name": "stdout",
     "output_type": "stream",
     "text": [
      "0.10 s\n",
      "12606 paths: 5.74 s"
     ]
    }
   ],
   "source": [
    "start = time.time()\n",
    "\n",
    "# Extract\n",
    "classes = sorted(f.as_posix() for f in data_root.glob('*/') if f.is_dir())\n",
    "num_classes = len(classes)\n",
    "labels = np.arange(num_classes, dtype=np.int32)\n",
    "\n",
    "class_label_ds = tf.data.Dataset.from_tensor_slices((classes, labels))\n",
    "path_label_ds = class_label_ds.apply(tf.data.experimental.parallel_interleave(\n",
    "    get_files, cycle_length=num_classes, block_length=4)) \n",
    "\n",
    "print(\"{:.2f} s\".format(time.time()-start))\n",
    "for i, (path, label) in enumerate(path_label_ds):\n",
    "    if i % 100 == 0:\n",
    "        print(\"\\r{} paths: {:.2f} s\".format(i, time.time()-start), end='', flush=True)\n",
    "print(\"\\r{} paths: {:.2f} s\".format(i, time.time()-start), end='', flush=True)"
   ]
  },
  {
   "cell_type": "code",
   "execution_count": 17,
   "metadata": {},
   "outputs": [],
   "source": [
    "def get_files(dir_path, label):\n",
    "    files = list(str(dir_path.glob('*/*.png')))\n",
    "    labels = [label] * len(files)\n",
    "    return tf.data.Dataset.from_tensor_slices((files, labels))   "
   ]
  },
  {
   "cell_type": "code",
   "execution_count": null,
   "metadata": {},
   "outputs": [],
   "source": [
    "#tf.gfile.ListDirectory(img_path)"
   ]
  },
  {
   "cell_type": "code",
   "execution_count": null,
   "metadata": {},
   "outputs": [],
   "source": [
    "# files = tf.data.Dataset.list_files(\"*.tfrecord\")\n",
    "# dataset = tf.data.TFRecordDataset(files)"
   ]
  },
  {
   "cell_type": "code",
   "execution_count": null,
   "metadata": {},
   "outputs": [],
   "source": [
    "# tf.data.Dataset.from_generator\n",
    "def path_label_generator():\n",
    "    char_to_label = dict()\n",
    "    for path in data_root.glob('*/*'):\n",
    "        char = path.parent.name\n",
    "        if char not in char_to_label:\n",
    "            char_to_label[char] = len(char_to_label)\n",
    "        yield path, char_to_label[char]\n",
    "        \n",
    "path_label_ds = tf.data.Dataset.from_generator(path_label_generator, (tf.string, tf.int32))\n",
    "print(path_label_ds)\n",
    "print('shape: ', repr(path_label_ds.output_shapes))\n",
    "print('type: ', path_label_ds.output_types)"
   ]
  }
 ],
 "metadata": {
  "kernelspec": {
   "display_name": "venv",
   "language": "python",
   "name": "venv"
  },
  "language_info": {
   "codemirror_mode": {
    "name": "ipython",
    "version": 3
   },
   "file_extension": ".py",
   "mimetype": "text/x-python",
   "name": "python",
   "nbconvert_exporter": "python",
   "pygments_lexer": "ipython3",
   "version": "3.5.2"
  }
 },
 "nbformat": 4,
 "nbformat_minor": 2
}
