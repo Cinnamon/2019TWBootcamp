{
 "cells": [
  {
   "cell_type": "code",
   "execution_count": 2,
   "metadata": {},
   "outputs": [],
   "source": [
    "import os, sys\n",
    "import torch\n",
    "import torchvision\n",
    "import torch.nn as nn"
   ]
  },
  {
   "cell_type": "markdown",
   "metadata": {},
   "source": [
    "### Setting Inception block"
   ]
  },
  {
   "cell_type": "code",
   "execution_count": 3,
   "metadata": {},
   "outputs": [],
   "source": [
    "class basic_conv2d(nn.Module):\n",
    "    def __init__(self, in_channels, out_channels, inplace, **kwarg):\n",
    "        super(basic_conv2d, self).__init__()\n",
    "        \n",
    "        self.conv = nn.Conv2d(in_channels=in_channels, out_channels=out_channels, **kwarg)\n",
    "        self.bn = nn.BatchNorm2d(num_features=out_channels)\n",
    "        self.leaky_relu = nn.LeakyReLU(negative_slope=0.2, inplace=inplace)\n",
    "        \n",
    "    def forward(self, x):\n",
    "        out = self.conv(x)\n",
    "        out = self.bn(out)\n",
    "        out = self.leaky_relu(out)\n",
    "        \n",
    "        return out\n",
    "\n",
    "class inception_block(nn.Module):\n",
    "    def __init__(self, input_depth):\n",
    "        super(inception_block, self).__init__()\n",
    "        self.branch1, self.branch2, self.branch3, self.branch4 = self.make_branches(input_depth=input_depth)\n",
    "        \n",
    "        \n",
    "        \n",
    "    def forward(self, x):\n",
    "        branch1_out = self.branch1(x)\n",
    "        branch2_out = self.branch2(x)\n",
    "        branch3_out = self.branch3(x)\n",
    "        branch4_out = self.branch4(x)\n",
    "        \n",
    "        out = [branch1_out, branch2_out, branch3_out, branch4_out]\n",
    "        \n",
    "        return torch.cat(tensors=out, dim=1)\n",
    "        \n",
    "    def make_branches(self, input_depth):\n",
    "        branch1 = basic_conv2d(in_channels=input_depth, out_channels=64, inplace=False, kernel_size=(1,1), padding=(0,0))\n",
    "        \n",
    "        branch2_1x1 = basic_conv2d(in_channels=input_depth, out_channels=96, inplace=False, kernel_size=(1,1), padding=(0,0))\n",
    "        branch2_3x3 = basic_conv2d(in_channels=96, out_channels=128, inplace=False, kernel_size=(3,3), padding=(1,1))\n",
    "        \n",
    "        branch3_1x1 = basic_conv2d(in_channels=input_depth, out_channels=16, inplace=False, kernel_size=(1,1), padding=(0,0))\n",
    "        branch3_5x5 = basic_conv2d(in_channels=16, out_channels=32, inplace=False, kernel_size=(5,5), padding=(2,2))\n",
    "        \n",
    "        branch4_pool = nn.MaxPool2d(kernel_size=(3,3), stride=(1,1), padding=(1,1))\n",
    "        branch4_1x1 = basic_conv2d(in_channels=input_depth, out_channels=32, inplace=False, kernel_size=(1,1), padding=(0,0))\n",
    "        \n",
    "        branch1 = nn.Sequential(branch1)\n",
    "        branch2 = nn.Sequential(branch2_1x1, branch2_3x3)\n",
    "        branch3 = nn.Sequential(branch3_1x1, branch3_5x5)\n",
    "        branch4 = nn.Sequential(branch4_pool, branch4_1x1)\n",
    "        \n",
    "        return branch1, branch2, branch3, branch4"
   ]
  },
  {
   "cell_type": "markdown",
   "metadata": {},
   "source": [
    "### Testing on Mnist"
   ]
  },
  {
   "cell_type": "code",
   "execution_count": 4,
   "metadata": {},
   "outputs": [],
   "source": [
    "mnist_trainset = torchvision.datasets.MNIST(root='./data',\n",
    "                                            train=True,\n",
    "                                            download=True,\n",
    "                                            transform=torchvision.transforms.ToTensor())\n",
    "mnist_loader = torch.utils.data.DataLoader(dataset=mnist_trainset, batch_size=64)\n",
    "x, y = mnist_loader.__iter__().__next__()"
   ]
  },
  {
   "cell_type": "code",
   "execution_count": 5,
   "metadata": {},
   "outputs": [
    {
     "data": {
      "text/plain": [
       "inception_block(\n",
       "  (branch1): Sequential(\n",
       "    (0): basic_conv2d(\n",
       "      (conv): Conv2d(1, 64, kernel_size=(1, 1), stride=(1, 1))\n",
       "      (bn): BatchNorm2d(64, eps=1e-05, momentum=0.1, affine=True, track_running_stats=True)\n",
       "      (leaky_relu): LeakyReLU(negative_slope=0.2)\n",
       "    )\n",
       "  )\n",
       "  (branch2): Sequential(\n",
       "    (0): basic_conv2d(\n",
       "      (conv): Conv2d(1, 96, kernel_size=(1, 1), stride=(1, 1))\n",
       "      (bn): BatchNorm2d(96, eps=1e-05, momentum=0.1, affine=True, track_running_stats=True)\n",
       "      (leaky_relu): LeakyReLU(negative_slope=0.2)\n",
       "    )\n",
       "    (1): basic_conv2d(\n",
       "      (conv): Conv2d(96, 128, kernel_size=(3, 3), stride=(1, 1), padding=(1, 1))\n",
       "      (bn): BatchNorm2d(128, eps=1e-05, momentum=0.1, affine=True, track_running_stats=True)\n",
       "      (leaky_relu): LeakyReLU(negative_slope=0.2)\n",
       "    )\n",
       "  )\n",
       "  (branch3): Sequential(\n",
       "    (0): basic_conv2d(\n",
       "      (conv): Conv2d(1, 16, kernel_size=(1, 1), stride=(1, 1))\n",
       "      (bn): BatchNorm2d(16, eps=1e-05, momentum=0.1, affine=True, track_running_stats=True)\n",
       "      (leaky_relu): LeakyReLU(negative_slope=0.2)\n",
       "    )\n",
       "    (1): basic_conv2d(\n",
       "      (conv): Conv2d(16, 32, kernel_size=(5, 5), stride=(1, 1), padding=(2, 2))\n",
       "      (bn): BatchNorm2d(32, eps=1e-05, momentum=0.1, affine=True, track_running_stats=True)\n",
       "      (leaky_relu): LeakyReLU(negative_slope=0.2)\n",
       "    )\n",
       "  )\n",
       "  (branch4): Sequential(\n",
       "    (0): MaxPool2d(kernel_size=(3, 3), stride=(1, 1), padding=(1, 1), dilation=1, ceil_mode=False)\n",
       "    (1): basic_conv2d(\n",
       "      (conv): Conv2d(1, 32, kernel_size=(1, 1), stride=(1, 1))\n",
       "      (bn): BatchNorm2d(32, eps=1e-05, momentum=0.1, affine=True, track_running_stats=True)\n",
       "      (leaky_relu): LeakyReLU(negative_slope=0.2)\n",
       "    )\n",
       "  )\n",
       ")"
      ]
     },
     "execution_count": 5,
     "metadata": {},
     "output_type": "execute_result"
    }
   ],
   "source": [
    "model = inception_block(input_depth=1)\n",
    "model"
   ]
  },
  {
   "cell_type": "code",
   "execution_count": 6,
   "metadata": {},
   "outputs": [
    {
     "data": {
      "text/plain": [
       "torch.Size([64, 256, 28, 28])"
      ]
     },
     "execution_count": 6,
     "metadata": {},
     "output_type": "execute_result"
    }
   ],
   "source": [
    "out = model(x)\n",
    "out.size()"
   ]
  },
  {
   "cell_type": "code",
   "execution_count": null,
   "metadata": {},
   "outputs": [],
   "source": []
  }
 ],
 "metadata": {
  "kernelspec": {
   "display_name": "torch_env",
   "language": "python",
   "name": "torch_env"
  },
  "language_info": {
   "codemirror_mode": {
    "name": "ipython",
    "version": 3
   },
   "file_extension": ".py",
   "mimetype": "text/x-python",
   "name": "python",
   "nbconvert_exporter": "python",
   "pygments_lexer": "ipython3",
   "version": "3.7.3"
  }
 },
 "nbformat": 4,
 "nbformat_minor": 2
}
