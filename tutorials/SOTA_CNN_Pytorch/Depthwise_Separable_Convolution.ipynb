{
 "cells": [
  {
   "cell_type": "code",
   "execution_count": 1,
   "metadata": {},
   "outputs": [],
   "source": [
    "import os, sys\n",
    "import torch\n",
    "import torchvision\n",
    "import torch.nn as nn"
   ]
  },
  {
   "cell_type": "markdown",
   "metadata": {},
   "source": [
    "### Setting depthwise separable convolution block"
   ]
  },
  {
   "cell_type": "code",
   "execution_count": 21,
   "metadata": {},
   "outputs": [],
   "source": [
    "def get_num_parameters(model):\n",
    "    total_num_parameters = 0\n",
    "    for name, paras in model.named_parameters():\n",
    "        total_num_parameters += paras.numel()\n",
    "        \n",
    "    return total_num_parameters"
   ]
  },
  {
   "cell_type": "code",
   "execution_count": 63,
   "metadata": {},
   "outputs": [],
   "source": [
    "class depthwise_separable_conv(nn.Module):\n",
    "    def __init__(self, in_channels, kernels_per_layer, out_channels):\n",
    "        super(depthwise_separable_conv, self).__init__()\n",
    "        \n",
    "        self.depthwise_conv = nn.Conv2d(in_channels=in_channels,\n",
    "                                        out_channels=kernels_per_layer * in_channels, \n",
    "                                        kernel_size=(3,3), \n",
    "                                        stride = (1,1),\n",
    "                                        padding = (1,1),\n",
    "                                        groups=in_channels)\n",
    "        self.pointwise_conv = nn.Conv2d(in_channels=kernels_per_layer * in_channels,\n",
    "                                        out_channels=out_channels,\n",
    "                                        kernel_size=(1,1),\n",
    "                                        stride=(1,1),\n",
    "                                        padding=(0,0))\n",
    "    def forward(self, x):\n",
    "        out = self.depthwise_conv(x)\n",
    "        out = self.pointwise_conv(out)\n",
    "        \n",
    "        return out\n",
    "    \n",
    "class depthwise_conv(nn.Module):\n",
    "    def __init__(self, in_channels, kernels_per_layer, out_channels, groups, **kwarg):\n",
    "        super(depthwise_conv, self).__init__()\n",
    "        \n",
    "        assert in_channels%groups == 0, \"Groups Error: in_channels should be divisible by groups\"\n",
    "            \n",
    "        self.depthwise_conv = nn.Conv2d(in_channels=in_channels,\n",
    "                                        out_channels=kernels_per_layer*in_channels,\n",
    "                                        groups=in_channels,\n",
    "                                        **kwarg)\n",
    "        \n",
    "    def forward(self, x):\n",
    "        out = self.depthwise_conv(x)\n",
    "        \n",
    "        return out"
   ]
  },
  {
   "cell_type": "markdown",
   "metadata": {},
   "source": [
    "### Testing Depthwise Separable Convolution on MNIST¶"
   ]
  },
  {
   "cell_type": "code",
   "execution_count": 64,
   "metadata": {},
   "outputs": [],
   "source": [
    "mnist_trainset = torchvision.datasets.MNIST(root='./data',\n",
    "                                            train=True,\n",
    "                                            download=True,\n",
    "                                            transform=torchvision.transforms.ToTensor())\n",
    "mnist_loader = torch.utils.data.DataLoader(dataset=mnist_trainset, batch_size=64)\n",
    "x, y = mnist_loader.__iter__().__next__()"
   ]
  },
  {
   "cell_type": "code",
   "execution_count": 68,
   "metadata": {},
   "outputs": [],
   "source": [
    "model = depthwise_separable_conv(in_channels=x.size()[1], kernels_per_layer=1, out_channels=64)\n",
    "model_original_conv = nn.Conv2d(in_channels=x.size()[1], out_channels=64, kernel_size=(3,3), padding=(1,1))"
   ]
  },
  {
   "cell_type": "code",
   "execution_count": 69,
   "metadata": {},
   "outputs": [
    {
     "data": {
      "text/plain": [
       "(torch.Size([64, 64, 28, 28]), torch.Size([64, 64, 28, 28]))"
      ]
     },
     "execution_count": 69,
     "metadata": {},
     "output_type": "execute_result"
    }
   ],
   "source": [
    "out = model(x)\n",
    "out_original_conv = model_original_conv(x)\n",
    "out.size(), out_original_conv.size()"
   ]
  },
  {
   "cell_type": "code",
   "execution_count": 77,
   "metadata": {},
   "outputs": [
    {
     "data": {
      "text/plain": [
       "(138, 640)"
      ]
     },
     "execution_count": 77,
     "metadata": {},
     "output_type": "execute_result"
    }
   ],
   "source": [
    "\"\"\" Comparing parameters\"\"\"\n",
    "paras = get_num_parameters(model) # (3*3*1 + 1) + (1*1*1*64 + 64)\n",
    "paras_original_conv = get_num_parameters(model_original_conv) # 3*3*1*64 + 64\n",
    "paras, paras_original_conv"
   ]
  },
  {
   "cell_type": "code",
   "execution_count": 72,
   "metadata": {},
   "outputs": [
    {
     "name": "stdout",
     "output_type": "stream",
     "text": [
      "depthwise_conv.weight 9\n",
      "depthwise_conv.bias 1\n",
      "pointwise_conv.weight 64\n",
      "pointwise_conv.bias 64\n"
     ]
    }
   ],
   "source": [
    "for name, i in model.named_parameters():\n",
    "    print(name, i.numel())"
   ]
  },
  {
   "cell_type": "markdown",
   "metadata": {},
   "source": [
    "### Testing Depthwise Convolution on MNIST"
   ]
  },
  {
   "cell_type": "code",
   "execution_count": 55,
   "metadata": {},
   "outputs": [
    {
     "name": "stdout",
     "output_type": "stream",
     "text": [
      "depthwise_conv.weight\n",
      "depthwise_conv.bias\n"
     ]
    }
   ],
   "source": [
    "for names, i in model_depthwise.named_parameters():\n",
    "    print(names)"
   ]
  },
  {
   "cell_type": "code",
   "execution_count": 76,
   "metadata": {},
   "outputs": [
    {
     "data": {
      "text/plain": [
       "10"
      ]
     },
     "execution_count": 76,
     "metadata": {},
     "output_type": "execute_result"
    }
   ],
   "source": [
    "model_depthwise = depthwise_conv(in_channels=x.size()[1],\n",
    "                                 kernels_per_layer=1,\n",
    "                                 out_channels=64,\n",
    "                                 groups = x.size()[1],\n",
    "                                 kernel_size=(3,3), \n",
    "                                 padding=(0,0),\n",
    "                                 stride=(1,1))\n",
    "\n",
    "paras_depthwise = get_num_parameters(model_depthwise) # (3*3*1 + 1)\n",
    "paras_depthwise"
   ]
  },
  {
   "cell_type": "markdown",
   "metadata": {},
   "source": [
    "### Reference:\n",
    "\n",
    "1. [How to modify Conv2d to Depthwise Separable Convolution](https://discuss.pytorch.org/t/how-to-modify-a-conv2d-to-depthwise-separable-convolution/15843/10)\n",
    "2. [Paper](https://arxiv.org/pdf/1704.04861.pdf)"
   ]
  },
  {
   "cell_type": "code",
   "execution_count": null,
   "metadata": {},
   "outputs": [],
   "source": []
  }
 ],
 "metadata": {
  "kernelspec": {
   "display_name": "torch_env",
   "language": "python",
   "name": "torch_env"
  },
  "language_info": {
   "codemirror_mode": {
    "name": "ipython",
    "version": 3
   },
   "file_extension": ".py",
   "mimetype": "text/x-python",
   "name": "python",
   "nbconvert_exporter": "python",
   "pygments_lexer": "ipython3",
   "version": "3.7.3"
  }
 },
 "nbformat": 4,
 "nbformat_minor": 2
}
