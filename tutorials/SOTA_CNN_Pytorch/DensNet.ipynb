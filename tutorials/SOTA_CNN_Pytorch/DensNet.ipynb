{
 "cells": [
  {
   "cell_type": "code",
   "execution_count": 1,
   "metadata": {},
   "outputs": [],
   "source": [
    "import os, sys\n",
    "import torch\n",
    "import torchvision\n",
    "import torch.nn as nn"
   ]
  },
  {
   "cell_type": "markdown",
   "metadata": {},
   "source": [
    "### Setting block"
   ]
  },
  {
   "cell_type": "code",
   "execution_count": 3,
   "metadata": {},
   "outputs": [],
   "source": [
    "# Reference: https://github.com/andreasveit/densenet-pytorch/blob/master/densenet.py\n",
    "class Basic_conv2d_LeakyReLU(nn.Module):\n",
    "    def __init__(self, in_channels, out_channels, inplace, **kwarg):\n",
    "        super(Basic_conv2d_LeakyReLU, self).__init__()\n",
    "        \n",
    "        self.conv = nn.Conv2d(in_channels=in_channels, out_channels=out_channels, **kwarg)\n",
    "        self.bn = nn.BatchNorm2d(num_features=out_channels)\n",
    "        self.leaky_relu = nn.LeakyReLU(negative_slope=0.2, inplace=inplace)\n",
    "        \n",
    "    def forward(self, x):\n",
    "        out = self.conv(x)\n",
    "        out = self.bn(out)\n",
    "        out = self.leaky_relu(out)\n",
    "        \n",
    "        return out\n",
    "\n",
    "class depthwise_separable_conv(nn.Module):\n",
    "    def __init__(self, in_channels, kernels_per_layer, out_channels, **kwarg):\n",
    "        super(depthwise_separable_conv, self).__init__()\n",
    "        \n",
    "        self.depthwise_conv = nn.Conv2d(in_channels=in_channels,\n",
    "                                        out_channels=kernels_per_layer * in_channels, \n",
    "                                        groups=in_channels,\n",
    "                                        **kwarg)\n",
    "        self.pointwise_conv = nn.Conv2d(in_channels=kernels_per_layer * in_channels,\n",
    "                                        out_channels=out_channels,\n",
    "                                        kernel_size=(1,1),\n",
    "                                        stride=(1,1),\n",
    "                                        padding=(0,0))\n",
    "    def forward(self, x):\n",
    "        out = self.depthwise_conv(x)\n",
    "        out = self.pointwise_conv(out)\n",
    "        \n",
    "        return out\n",
    "\n",
    "class Bottleneck_Block(nn.Module):\n",
    "    def __init__(self, in_channels, out_channels):\n",
    "        super(Bottleneck_Block, self).__init__()\n",
    "        \n",
    "        self.conv_1x1 = Basic_conv2d_LeakyReLU(in_channels=in_channels,\n",
    "                                               out_channels=out_channels,\n",
    "                                               inplace=True,\n",
    "                                               kernel_size=(1,1),\n",
    "                                               stride=1,\n",
    "                                               padding=0)\n",
    "        \n",
    "        self.conv_3x3 = depthwise_separable_conv(in_channels=out_channels,\n",
    "                                                 kernels_per_layer=1,\n",
    "                                                 out_channels=out_channels,\n",
    "                                                 kernel_size=(3,3), \n",
    "                                                 stride = (1,1),\n",
    "                                                 padding = (1,1))\n",
    "\n",
    "    def forward(self, x):\n",
    "        out = self.conv_1x1(x)\n",
    "        out = self.conv_3x3(out)\n",
    "        \n",
    "        return torch.cat((x, out), dim=1)\n",
    "\n",
    "      \n",
    "class DenseBlock(nn.Module):\n",
    "    def __init__(self, in_channels, growth_rate, nb_layers):\n",
    "        super(DenseBlock, self).__init__()\n",
    "        \n",
    "        self.dense_layers = self._make_layers(in_channels, growth_rate, nb_layers)\n",
    "        \n",
    "    def _make_layers(self, in_channels, growth_rate, nb_layers):\n",
    "        layers = []\n",
    "        for i in range(nb_layers):\n",
    "            layers.append(Bottleneck_Block(in_channels + i*growth_rate, growth_rate))\n",
    "        \n",
    "        return nn.Sequential(*layers)\n",
    "    \n",
    "    def forward(self, x):\n",
    "        return self.dense_layers(x)"
   ]
  },
  {
   "cell_type": "markdown",
   "metadata": {},
   "source": [
    "### Testing on Mnist"
   ]
  },
  {
   "cell_type": "code",
   "execution_count": 4,
   "metadata": {},
   "outputs": [],
   "source": [
    "mnist_trainset = torchvision.datasets.MNIST(root='./data',\n",
    "                                            train=True,\n",
    "                                            download=True,\n",
    "                                            transform=torchvision.transforms.ToTensor())\n",
    "mnist_loader = torch.utils.data.DataLoader(dataset=mnist_trainset, batch_size=64)\n",
    "x, y = mnist_loader.__iter__().__next__()"
   ]
  },
  {
   "cell_type": "code",
   "execution_count": 5,
   "metadata": {
    "scrolled": true
   },
   "outputs": [
    {
     "data": {
      "text/plain": [
       "DenseBlock(\n",
       "  (dense_layers): Sequential(\n",
       "    (0): Bottleneck_Block(\n",
       "      (conv_1x1): Basic_conv2d_LeakyReLU(\n",
       "        (conv): Conv2d(1, 64, kernel_size=(1, 1), stride=(1, 1))\n",
       "        (bn): BatchNorm2d(64, eps=1e-05, momentum=0.1, affine=True, track_running_stats=True)\n",
       "        (leaky_relu): LeakyReLU(negative_slope=0.2, inplace)\n",
       "      )\n",
       "      (conv_3x3): depthwise_separable_conv(\n",
       "        (depthwise_conv): Conv2d(64, 64, kernel_size=(3, 3), stride=(1, 1), padding=(1, 1), groups=64)\n",
       "        (pointwise_conv): Conv2d(64, 64, kernel_size=(1, 1), stride=(1, 1))\n",
       "      )\n",
       "    )\n",
       "    (1): Bottleneck_Block(\n",
       "      (conv_1x1): Basic_conv2d_LeakyReLU(\n",
       "        (conv): Conv2d(65, 64, kernel_size=(1, 1), stride=(1, 1))\n",
       "        (bn): BatchNorm2d(64, eps=1e-05, momentum=0.1, affine=True, track_running_stats=True)\n",
       "        (leaky_relu): LeakyReLU(negative_slope=0.2, inplace)\n",
       "      )\n",
       "      (conv_3x3): depthwise_separable_conv(\n",
       "        (depthwise_conv): Conv2d(64, 64, kernel_size=(3, 3), stride=(1, 1), padding=(1, 1), groups=64)\n",
       "        (pointwise_conv): Conv2d(64, 64, kernel_size=(1, 1), stride=(1, 1))\n",
       "      )\n",
       "    )\n",
       "    (2): Bottleneck_Block(\n",
       "      (conv_1x1): Basic_conv2d_LeakyReLU(\n",
       "        (conv): Conv2d(129, 64, kernel_size=(1, 1), stride=(1, 1))\n",
       "        (bn): BatchNorm2d(64, eps=1e-05, momentum=0.1, affine=True, track_running_stats=True)\n",
       "        (leaky_relu): LeakyReLU(negative_slope=0.2, inplace)\n",
       "      )\n",
       "      (conv_3x3): depthwise_separable_conv(\n",
       "        (depthwise_conv): Conv2d(64, 64, kernel_size=(3, 3), stride=(1, 1), padding=(1, 1), groups=64)\n",
       "        (pointwise_conv): Conv2d(64, 64, kernel_size=(1, 1), stride=(1, 1))\n",
       "      )\n",
       "    )\n",
       "    (3): Bottleneck_Block(\n",
       "      (conv_1x1): Basic_conv2d_LeakyReLU(\n",
       "        (conv): Conv2d(193, 64, kernel_size=(1, 1), stride=(1, 1))\n",
       "        (bn): BatchNorm2d(64, eps=1e-05, momentum=0.1, affine=True, track_running_stats=True)\n",
       "        (leaky_relu): LeakyReLU(negative_slope=0.2, inplace)\n",
       "      )\n",
       "      (conv_3x3): depthwise_separable_conv(\n",
       "        (depthwise_conv): Conv2d(64, 64, kernel_size=(3, 3), stride=(1, 1), padding=(1, 1), groups=64)\n",
       "        (pointwise_conv): Conv2d(64, 64, kernel_size=(1, 1), stride=(1, 1))\n",
       "      )\n",
       "    )\n",
       "    (4): Bottleneck_Block(\n",
       "      (conv_1x1): Basic_conv2d_LeakyReLU(\n",
       "        (conv): Conv2d(257, 64, kernel_size=(1, 1), stride=(1, 1))\n",
       "        (bn): BatchNorm2d(64, eps=1e-05, momentum=0.1, affine=True, track_running_stats=True)\n",
       "        (leaky_relu): LeakyReLU(negative_slope=0.2, inplace)\n",
       "      )\n",
       "      (conv_3x3): depthwise_separable_conv(\n",
       "        (depthwise_conv): Conv2d(64, 64, kernel_size=(3, 3), stride=(1, 1), padding=(1, 1), groups=64)\n",
       "        (pointwise_conv): Conv2d(64, 64, kernel_size=(1, 1), stride=(1, 1))\n",
       "      )\n",
       "    )\n",
       "    (5): Bottleneck_Block(\n",
       "      (conv_1x1): Basic_conv2d_LeakyReLU(\n",
       "        (conv): Conv2d(321, 64, kernel_size=(1, 1), stride=(1, 1))\n",
       "        (bn): BatchNorm2d(64, eps=1e-05, momentum=0.1, affine=True, track_running_stats=True)\n",
       "        (leaky_relu): LeakyReLU(negative_slope=0.2, inplace)\n",
       "      )\n",
       "      (conv_3x3): depthwise_separable_conv(\n",
       "        (depthwise_conv): Conv2d(64, 64, kernel_size=(3, 3), stride=(1, 1), padding=(1, 1), groups=64)\n",
       "        (pointwise_conv): Conv2d(64, 64, kernel_size=(1, 1), stride=(1, 1))\n",
       "      )\n",
       "    )\n",
       "    (6): Bottleneck_Block(\n",
       "      (conv_1x1): Basic_conv2d_LeakyReLU(\n",
       "        (conv): Conv2d(385, 64, kernel_size=(1, 1), stride=(1, 1))\n",
       "        (bn): BatchNorm2d(64, eps=1e-05, momentum=0.1, affine=True, track_running_stats=True)\n",
       "        (leaky_relu): LeakyReLU(negative_slope=0.2, inplace)\n",
       "      )\n",
       "      (conv_3x3): depthwise_separable_conv(\n",
       "        (depthwise_conv): Conv2d(64, 64, kernel_size=(3, 3), stride=(1, 1), padding=(1, 1), groups=64)\n",
       "        (pointwise_conv): Conv2d(64, 64, kernel_size=(1, 1), stride=(1, 1))\n",
       "      )\n",
       "    )\n",
       "    (7): Bottleneck_Block(\n",
       "      (conv_1x1): Basic_conv2d_LeakyReLU(\n",
       "        (conv): Conv2d(449, 64, kernel_size=(1, 1), stride=(1, 1))\n",
       "        (bn): BatchNorm2d(64, eps=1e-05, momentum=0.1, affine=True, track_running_stats=True)\n",
       "        (leaky_relu): LeakyReLU(negative_slope=0.2, inplace)\n",
       "      )\n",
       "      (conv_3x3): depthwise_separable_conv(\n",
       "        (depthwise_conv): Conv2d(64, 64, kernel_size=(3, 3), stride=(1, 1), padding=(1, 1), groups=64)\n",
       "        (pointwise_conv): Conv2d(64, 64, kernel_size=(1, 1), stride=(1, 1))\n",
       "      )\n",
       "    )\n",
       "  )\n",
       ")"
      ]
     },
     "execution_count": 5,
     "metadata": {},
     "output_type": "execute_result"
    }
   ],
   "source": [
    "model = DenseBlock(in_channels=1, growth_rate=64, nb_layers=8)\n",
    "model"
   ]
  },
  {
   "cell_type": "code",
   "execution_count": 6,
   "metadata": {},
   "outputs": [
    {
     "data": {
      "text/plain": [
       "torch.Size([64, 513, 28, 28])"
      ]
     },
     "execution_count": 6,
     "metadata": {},
     "output_type": "execute_result"
    }
   ],
   "source": [
    "out = model(x)\n",
    "out.size() # 1 + 64*8"
   ]
  },
  {
   "cell_type": "markdown",
   "metadata": {},
   "source": [
    "### Reference:\n",
    "1. [DenseNet: Paper](https://arxiv.org/pdf/1608.06993.pdf)\n",
    "2. [DenseNet: Pytorch Tutorial](https://github.com/andreasveit/densenet-pytorch/blob/master/densenet.py)\n",
    "3. [DenseNet: Review Article-1](https://blog.csdn.net/u014380165/article/details/75142664)\n",
    "4. [DenseNet: Review Article-2](https://towardsdatascience.com/understanding-and-visualizing-densenets-7f688092391a)\n",
    "5. [CondenseNet: Paper](https://arxiv.org/pdf/1711.09224.pdf)"
   ]
  },
  {
   "cell_type": "code",
   "execution_count": null,
   "metadata": {},
   "outputs": [],
   "source": []
  }
 ],
 "metadata": {
  "kernelspec": {
   "display_name": "torch_env",
   "language": "python",
   "name": "torch_env"
  },
  "language_info": {
   "codemirror_mode": {
    "name": "ipython",
    "version": 3
   },
   "file_extension": ".py",
   "mimetype": "text/x-python",
   "name": "python",
   "nbconvert_exporter": "python",
   "pygments_lexer": "ipython3",
   "version": "3.7.3"
  }
 },
 "nbformat": 4,
 "nbformat_minor": 2
}
