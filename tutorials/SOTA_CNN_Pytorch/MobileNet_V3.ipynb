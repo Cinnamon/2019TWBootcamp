{
 "cells": [
  {
   "cell_type": "code",
   "execution_count": 1,
   "metadata": {},
   "outputs": [],
   "source": [
    "import os, sys\n",
    "import torch\n",
    "import torchvision\n",
    "import torch.nn as nn"
   ]
  },
  {
   "cell_type": "markdown",
   "metadata": {},
   "source": [
    "### Setting block"
   ]
  },
  {
   "cell_type": "code",
   "execution_count": 39,
   "metadata": {},
   "outputs": [],
   "source": [
    "###Reference: https://github.com/xiaolai-sqlai/mobilenetv3/blob/master/mobilenetv3.py\n",
    "\n",
    "class Hswish(nn.Module):\n",
    "    def forward(self, x):\n",
    "        out = x * nn.functional.relu6(x + 3., inplace=True) / 6.\n",
    "        \n",
    "        return out\n",
    "    \n",
    "class Hsigmoid(nn.Module):\n",
    "    def forward(self, x):\n",
    "        out = nn.functional.relu6(x + 3., inplace=True) / 6.\n",
    "        \n",
    "        return out\n",
    "    \n",
    "class depthwise_conv(nn.Module):\n",
    "    def __init__(self, in_channels, kernels_per_layer, out_channels, groups, **kwarg):\n",
    "        super(depthwise_conv, self).__init__()\n",
    "        \n",
    "        assert in_channels%groups == 0, \"Groups Error: in_channels should be divisible by groups\"\n",
    "            \n",
    "        self.depthwise_conv = nn.Conv2d(in_channels=in_channels,\n",
    "                                        out_channels=kernels_per_layer*in_channels,\n",
    "                                        groups=in_channels,\n",
    "                                        **kwarg)\n",
    "        \n",
    "    def forward(self, x):\n",
    "        out = self.depthwise_conv(x)\n",
    "        \n",
    "        return out\n",
    "    \n",
    "class SE_Block(nn.Module):\n",
    "    def __init__(self, in_channels, squeeze_ratio):\n",
    "        super(SE_Block, self).__init__()\n",
    "        \n",
    "        assert 0 < squeeze_ratio <= 1, 'Squeeze ratio for squeeze and excitation should be within (0,1]'\n",
    "        \n",
    "        squeeze_channel = int(in_channels * squeeze_ratio)\n",
    "        \n",
    "        self.se_block = nn.Sequential(\n",
    "            nn.AdaptiveAvgPool2d((1,1)),\n",
    "            nn.Conv2d(in_channels, squeeze_channel, kernel_size=(1,1), stride=1, padding=0), #use 1x1 conv replace to dense\n",
    "            nn.ReLU(inplace=True),\n",
    "            nn.Conv2d(squeeze_channel, in_channels, kernel_size=(1,1), stride=1, padding=0),\n",
    "            Hsigmoid()\n",
    "        )\n",
    "    \n",
    "    def forward(self, x):\n",
    "        return x * self.se_block(x)\n",
    "    \n",
    "class MobileV3_Block(nn.Module):\n",
    "    def __init__(self, kernel_size, in_channels, expand_ratio, out_channels, activation_fn, se_block, strides, bias):\n",
    "        super(MobileV3_Block, self).__init__()\n",
    "        \n",
    "        assert type(kernel_size) == int\n",
    "        \n",
    "        self.strides = strides\n",
    "        self.se_block = se_block\n",
    "        self.use_residual = strides == 1 or strides == (1,1)\n",
    "        hidden_dim = round(in_channels * expand_ratio)\n",
    "        \n",
    "        self.v2_block = nn.Sequential(\n",
    "            #pw: expansion\n",
    "            nn.Conv2d(in_channels, hidden_dim, kernel_size=(1,1), stride=1, padding=0, bias=bias),\n",
    "            nn.BatchNorm2d(hidden_dim),\n",
    "            activation_fn,\n",
    "            \n",
    "            #dp\n",
    "            nn.Conv2d(hidden_dim, hidden_dim, kernel_size=kernel_size, stride=self.strides,\n",
    "                      padding=kernel_size//2, groups=hidden_dim, bias=bias),\n",
    "            nn.BatchNorm2d(hidden_dim),\n",
    "            activation_fn,\n",
    "            \n",
    "            #pw: compression\n",
    "            nn.Conv2d(hidden_dim, out_channels, kernel_size=(1,1), stride=1, padding=0, bias=bias),\n",
    "            nn.BatchNorm2d(out_channels),\n",
    "        )\n",
    "        \n",
    "        self.shortcut_block = nn.Sequential()\n",
    "        \n",
    "        if self.use_residual and in_channels != out_channels:\n",
    "            self.shortcut_block = nn.Sequential(\n",
    "                nn.Conv2d(in_channels, out_channels, kernel_size=(1,1), stride=1, padding=0, bias=bias),\n",
    "                nn.BatchNorm2d(out_channels)\n",
    "            )\n",
    "            \n",
    "    def forward(self, x):\n",
    "        out = self.v2_block(x)\n",
    "        if self.se_block != None:\n",
    "            out = self.se_block(out)\n",
    "            \n",
    "        out = out + self.shortcut_block(x) if self.use_residual else out\n",
    "        \n",
    "        return out"
   ]
  },
  {
   "cell_type": "markdown",
   "metadata": {},
   "source": [
    "### Testing on Mnist"
   ]
  },
  {
   "cell_type": "code",
   "execution_count": 40,
   "metadata": {},
   "outputs": [],
   "source": [
    "mnist_trainset = torchvision.datasets.MNIST(root='./data',\n",
    "                                            train=True,\n",
    "                                            download=True,\n",
    "                                            transform=torchvision.transforms.ToTensor())\n",
    "mnist_loader = torch.utils.data.DataLoader(dataset=mnist_trainset, batch_size=64)\n",
    "x, y = mnist_loader.__iter__().__next__()"
   ]
  },
  {
   "cell_type": "code",
   "execution_count": 49,
   "metadata": {},
   "outputs": [],
   "source": [
    "squeeze_excitation_block = SE_Block(in_channels=64, squeeze_ratio=0.25)\n",
    "model = MobileV3_Block(kernel_size=3, in_channels=1, expand_ratio=4,\n",
    "                       out_channels=64, activation_fn=Hswish(), se_block=squeeze_excitation_block,\n",
    "                       strides=1, bias=False)"
   ]
  },
  {
   "cell_type": "code",
   "execution_count": 50,
   "metadata": {},
   "outputs": [
    {
     "data": {
      "text/plain": [
       "torch.Size([64, 64, 28, 28])"
      ]
     },
     "execution_count": 50,
     "metadata": {},
     "output_type": "execute_result"
    }
   ],
   "source": [
    "out = model(x)\n",
    "out.size()"
   ]
  },
  {
   "cell_type": "markdown",
   "metadata": {},
   "source": [
    "### Reference:\n",
    "1. [MobileNet V3: Paper](https://arxiv.org/pdf/1905.02244.pdf)\n",
    "2. [MobileNet V3: Pytorch Tutorial](https://github.com/xiaolai-sqlai/mobilenetv3/blob/master/mobilenetv3.py)\n",
    "3. [MobileNet V3: Review Article](https://www.jiqizhixin.com/articles/2019-05-09-2)"
   ]
  },
  {
   "cell_type": "code",
   "execution_count": null,
   "metadata": {},
   "outputs": [],
   "source": []
  }
 ],
 "metadata": {
  "kernelspec": {
   "display_name": "torch_env",
   "language": "python",
   "name": "torch_env"
  },
  "language_info": {
   "codemirror_mode": {
    "name": "ipython",
    "version": 3
   },
   "file_extension": ".py",
   "mimetype": "text/x-python",
   "name": "python",
   "nbconvert_exporter": "python",
   "pygments_lexer": "ipython3",
   "version": "3.7.3"
  }
 },
 "nbformat": 4,
 "nbformat_minor": 2
}
