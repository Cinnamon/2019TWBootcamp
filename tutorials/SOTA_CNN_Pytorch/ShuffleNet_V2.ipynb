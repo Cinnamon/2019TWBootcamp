{
 "cells": [
  {
   "cell_type": "code",
   "execution_count": 1,
   "metadata": {},
   "outputs": [],
   "source": [
    "import os, sys\n",
    "import torch\n",
    "import torchvision\n",
    "import torch.nn as nn"
   ]
  },
  {
   "cell_type": "markdown",
   "metadata": {},
   "source": [
    "### Setting block"
   ]
  },
  {
   "cell_type": "code",
   "execution_count": 105,
   "metadata": {},
   "outputs": [],
   "source": [
    "def get_num_parameters(model):\n",
    "    total_num_parameters = 0\n",
    "    for name, paras in model.named_parameters():\n",
    "        total_num_parameters += paras.numel()\n",
    "        \n",
    "    return total_num_parameters"
   ]
  },
  {
   "cell_type": "code",
   "execution_count": 101,
   "metadata": {},
   "outputs": [],
   "source": [
    "#Reference: https://github.com/ericsun99/Shufflenet-v2-Pytorch/blob/master/ShuffleNetV2.py\n",
    "def channel_shuffle(x, groups):\n",
    "    b, c, h, w = x.size() # (B, C, H, W)\n",
    "    \n",
    "    assert c % groups == 0, \"Groups Error: number of channels should be divisible by groups\"\n",
    "\n",
    "    channels_per_group = c // groups\n",
    "    \n",
    "    \"\"\" reshape for channel shuffling \"\"\"\n",
    "    out = x.view(b, groups, channels_per_group, h, w)\n",
    "    ourt = torch.transpose(out, 1, 2).contiguous()\n",
    "    out = x.view(b, -1, h, w)\n",
    "\n",
    "    return out\n",
    "\n",
    "class Basic_conv2d_LeakyReLU(nn.Module):\n",
    "    def __init__(self, in_channels, out_channels, inplace, **kwarg):\n",
    "        super(Basic_conv2d_LeakyReLU, self).__init__()\n",
    "        \n",
    "        self.conv = nn.Conv2d(in_channels=in_channels, out_channels=out_channels, **kwarg)\n",
    "        self.bn = nn.BatchNorm2d(num_features=out_channels)\n",
    "        self.leaky_relu = nn.LeakyReLU(negative_slope=0.2, inplace=inplace)\n",
    "        \n",
    "    def forward(self, x):\n",
    "        out = self.conv(x)\n",
    "        out = self.bn(out)\n",
    "        out = self.leaky_relu(out)\n",
    "        \n",
    "        return out\n",
    "\n",
    "class depthwise_conv(nn.Module):\n",
    "    def __init__(self, in_channels, kernels_per_layer, out_channels, groups, **kwarg):\n",
    "        super(depthwise_conv, self).__init__()\n",
    "        \n",
    "        assert in_channels%groups == 0, \"Groups Error: in_channels should be divisible by groups\"\n",
    "            \n",
    "        self.depthwise_conv = nn.Conv2d(in_channels=in_channels,\n",
    "                                        out_channels=kernels_per_layer*in_channels,\n",
    "                                        groups=in_channels,\n",
    "                                        **kwarg)\n",
    "        \n",
    "    def forward(self, x):\n",
    "        out = self.depthwise_conv(x)\n",
    "        \n",
    "        return out\n",
    "\n",
    "class ShuffleNet_V2_Block(nn.Module):\n",
    "    def __init__(self, in_channels, out_channels, strides, groups):\n",
    "        super(ShuffleNet_V2_Block, self).__init__()\n",
    "        assert in_channels == out_channels, 'input channels should be the same as output channels'\n",
    "        \n",
    "        self.groups = groups\n",
    "        self.strides = strides\n",
    "        \n",
    "        half_channel = out_channels // 2\n",
    "        \n",
    "        if strides == 1 or strides == (1,1):\n",
    "            self.branch1 = nn.Sequential(\n",
    "                Basic_conv2d_LeakyReLU(in_channels//2, half_channel, True, kernel_size=(1,1), stride=1, padding=0),\n",
    "                depthwise_conv(half_channel, 1, half_channel, half_channel, kernel_size=(3,3), stride=strides, padding=1),\n",
    "                Basic_conv2d_LeakyReLU(half_channel, half_channel, True, kernel_size=(1,1), stride=1, padding=0)\n",
    "            )\n",
    "            \n",
    "        else:\n",
    "            self.branch1 = nn.Sequential(\n",
    "                depthwise_conv(in_channels, 1, in_channels, in_channels, kernel_size=(3,3), stride=strides, padding=1),\n",
    "                Basic_conv2d_LeakyReLU(in_channels, half_channel, False, kernel_size=(1,1), stride=1, padding=0)\n",
    "            )\n",
    "            \n",
    "            self.branch2 = nn.Sequential(\n",
    "                Basic_conv2d_LeakyReLU(in_channels, half_channel, False, kernel_size=(1,1), stride=1, padding=0),\n",
    "                depthwise_conv(half_channel, 1, half_channel, half_channel, kernel_size=(3,3), stride=strides, padding=1),\n",
    "                Basic_conv2d_LeakyReLU(half_channel, half_channel, False, kernel_size=(1,1), stride=1, padding=0)\n",
    "            )\n",
    "            \n",
    "    def forward(self, x):\n",
    "        if self.strides == 1 or self.strides == (1,1):\n",
    "            x1, x2 = torch.chunk(x, chunks=2, dim=1) #split into half along the channel\n",
    "            out = torch.cat((x1, self.branch1(x2)), dim=1)\n",
    "            \n",
    "        else:\n",
    "            out = torch.cat((self.branch1(x), self.branch2(x)), dim=1)\n",
    "            \n",
    "        return channel_shuffle(out, groups=self.groups)\n",
    "            "
   ]
  },
  {
   "cell_type": "markdown",
   "metadata": {},
   "source": [
    "### Testing"
   ]
  },
  {
   "cell_type": "code",
   "execution_count": 102,
   "metadata": {},
   "outputs": [
    {
     "data": {
      "text/plain": [
       "torch.Size([64, 4, 300, 300])"
      ]
     },
     "execution_count": 102,
     "metadata": {},
     "output_type": "execute_result"
    }
   ],
   "source": [
    "x = torch.randn(64, 4, 300, 300)\n",
    "x.size()"
   ]
  },
  {
   "cell_type": "code",
   "execution_count": 103,
   "metadata": {
    "scrolled": true
   },
   "outputs": [
    {
     "data": {
      "text/plain": [
       "ShuffleNet_V2_Block(\n",
       "  (branch1): Sequential(\n",
       "    (0): depthwise_conv(\n",
       "      (depthwise_conv): Conv2d(4, 4, kernel_size=(3, 3), stride=(2, 2), padding=(1, 1), groups=4)\n",
       "    )\n",
       "    (1): Basic_conv2d_LeakyReLU(\n",
       "      (conv): Conv2d(4, 2, kernel_size=(1, 1), stride=(1, 1))\n",
       "      (bn): BatchNorm2d(2, eps=1e-05, momentum=0.1, affine=True, track_running_stats=True)\n",
       "      (leaky_relu): LeakyReLU(negative_slope=0.2)\n",
       "    )\n",
       "  )\n",
       "  (branch2): Sequential(\n",
       "    (0): Basic_conv2d_LeakyReLU(\n",
       "      (conv): Conv2d(4, 2, kernel_size=(1, 1), stride=(1, 1))\n",
       "      (bn): BatchNorm2d(2, eps=1e-05, momentum=0.1, affine=True, track_running_stats=True)\n",
       "      (leaky_relu): LeakyReLU(negative_slope=0.2)\n",
       "    )\n",
       "    (1): depthwise_conv(\n",
       "      (depthwise_conv): Conv2d(2, 2, kernel_size=(3, 3), stride=(2, 2), padding=(1, 1), groups=2)\n",
       "    )\n",
       "    (2): Basic_conv2d_LeakyReLU(\n",
       "      (conv): Conv2d(2, 2, kernel_size=(1, 1), stride=(1, 1))\n",
       "      (bn): BatchNorm2d(2, eps=1e-05, momentum=0.1, affine=True, track_running_stats=True)\n",
       "      (leaky_relu): LeakyReLU(negative_slope=0.2)\n",
       "    )\n",
       "  )\n",
       ")"
      ]
     },
     "execution_count": 103,
     "metadata": {},
     "output_type": "execute_result"
    }
   ],
   "source": [
    "model = ShuffleNet_V2_Block(in_channels=4, out_channels=4, strides=2, groups=2)\n",
    "model"
   ]
  },
  {
   "cell_type": "code",
   "execution_count": 106,
   "metadata": {},
   "outputs": [
    {
     "data": {
      "text/plain": [
       "98"
      ]
     },
     "execution_count": 106,
     "metadata": {},
     "output_type": "execute_result"
    }
   ],
   "source": [
    "get_num_parameters(model)"
   ]
  },
  {
   "cell_type": "code",
   "execution_count": 104,
   "metadata": {},
   "outputs": [
    {
     "data": {
      "text/plain": [
       "torch.Size([64, 4, 150, 150])"
      ]
     },
     "execution_count": 104,
     "metadata": {},
     "output_type": "execute_result"
    }
   ],
   "source": [
    "out = model(x)\n",
    "out.size()"
   ]
  },
  {
   "cell_type": "markdown",
   "metadata": {},
   "source": [
    "### Reference:\n",
    "1. [ShuffleNet V2: Paper](https://arxiv.org/pdf/1807.11164.pdf)\n",
    "2. [ShuffleNet V2: Pytorch Tutorial](https://github.com/ericsun99/Shufflenet-v2-Pytorch/blob/master/ShuffleNetV2.py)\n",
    "3. [ShuffleNet V2: Review Article](https://zhuanlan.zhihu.com/p/48261931)\n",
    "4. [ShuffleNet V1: Paper](https://arxiv.org/pdf/1707.01083.pdf)\n",
    "5. [ShuffleNet V1: Review Article](https://blog.csdn.net/hongbin_xu/article/details/84304135)\n",
    "6. [SqueezeNet MobileNet ShuffleNet Xception: Review Article](https://zhuanlan.zhihu.com/p/32746221)"
   ]
  },
  {
   "cell_type": "code",
   "execution_count": null,
   "metadata": {},
   "outputs": [],
   "source": []
  }
 ],
 "metadata": {
  "kernelspec": {
   "display_name": "torch_env",
   "language": "python",
   "name": "torch_env"
  },
  "language_info": {
   "codemirror_mode": {
    "name": "ipython",
    "version": 3
   },
   "file_extension": ".py",
   "mimetype": "text/x-python",
   "name": "python",
   "nbconvert_exporter": "python",
   "pygments_lexer": "ipython3",
   "version": "3.7.3"
  }
 },
 "nbformat": 4,
 "nbformat_minor": 2
}
