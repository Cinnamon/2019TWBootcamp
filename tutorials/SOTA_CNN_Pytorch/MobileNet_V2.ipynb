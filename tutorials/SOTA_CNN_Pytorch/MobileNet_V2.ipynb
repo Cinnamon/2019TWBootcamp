{
 "cells": [
  {
   "cell_type": "code",
   "execution_count": 1,
   "metadata": {},
   "outputs": [],
   "source": [
    "import os, sys\n",
    "import torch\n",
    "import torchvision\n",
    "import torch.nn as nn"
   ]
  },
  {
   "cell_type": "markdown",
   "metadata": {},
   "source": [
    "### Setting block"
   ]
  },
  {
   "cell_type": "code",
   "execution_count": 24,
   "metadata": {},
   "outputs": [],
   "source": [
    "# Reference: https://github.com/tonylins/pytorch-mobilenet-v2/blob/master/MobileNetV2.py\n",
    "class depthwise_separable_conv(nn.Module):\n",
    "    def __init__(self, in_channels, kernels_per_layer, out_channels):\n",
    "        super(depthwise_separable_conv, self).__init__()\n",
    "        \n",
    "        self.depthwise_conv = nn.Conv2d(in_channels=in_channels,\n",
    "                                        out_channels=kernels_per_layer * in_channels, \n",
    "                                        kernel_size=(3,3), \n",
    "                                        stride = (1,1),\n",
    "                                        padding = (1,1),\n",
    "                                        groups=in_channels)\n",
    "        self.pointwise_conv = nn.Conv2d(in_channels=kernels_per_layer * in_channels,\n",
    "                                        out_channels=out_channels,\n",
    "                                        kernel_size=(1,1),\n",
    "                                        stride=(1,1),\n",
    "                                        padding=(0,0))\n",
    "    def forward(self, x):\n",
    "        out = self.depthwise_conv(x)\n",
    "        out = self.pointwise_conv(out)\n",
    "        \n",
    "        return out\n",
    "    \n",
    "class depthwise_conv(nn.Module):\n",
    "    def __init__(self, in_channels, kernels_per_layer, out_channels, groups, **kwarg):\n",
    "        super(depthwise_conv, self).__init__()\n",
    "        \n",
    "        assert in_channels%groups == 0, \"Groups Error: in_channels should be divisible by groups\"\n",
    "            \n",
    "        self.depthwise_conv = nn.Conv2d(in_channels=in_channels,\n",
    "                                        out_channels=kernels_per_layer*in_channels,\n",
    "                                        groups=in_channels,\n",
    "                                        **kwarg)\n",
    "        \n",
    "    def forward(self, x):\n",
    "        out = self.depthwise_conv(x)\n",
    "        \n",
    "        return out\n",
    "    \n",
    "class Basic_conv2d_ReLU6(nn.Module):\n",
    "    def __init__(self, in_channels, out_channels, inplace, **kwarg):\n",
    "        super(Basic_conv2d_ReLU6, self).__init__()\n",
    "        \n",
    "        self.conv = nn.Conv2d(in_channels=in_channels, out_channels=out_channels, **kwarg)\n",
    "        self.bn = nn.BatchNorm2d(num_features=out_channels)\n",
    "        self.relu6 = nn.ReLU6(inplace=inplace)\n",
    "        \n",
    "    def forward(self, x):\n",
    "        out = self.conv(x)\n",
    "        out = self.bn(out)\n",
    "        out = self.relu6(out)\n",
    "        \n",
    "        return out\n",
    "    \n",
    "class Inverted_Residual_Block(nn.Module):\n",
    "    def __init__(self, in_channels, out_channels, expand_ratio, strides, bias):\n",
    "        super(Inverted_Residual_Block, self).__init__()\n",
    "        \n",
    "        self.strides = strides\n",
    "        self.use_residual = strides == 1 or strides == (1,1)\n",
    "        hidden_dim = round(in_channels * expand_ratio)\n",
    "        \n",
    "        self.net = nn.Sequential(\n",
    "            #pw\n",
    "            Basic_conv2d_ReLU6(in_channels=in_channels,\n",
    "                               out_channels=hidden_dim,\n",
    "                               inplace=True,\n",
    "                               bias = bias,\n",
    "                               kernel_size=(1,1),\n",
    "                               stride=1,\n",
    "                               padding=0),\n",
    "            \n",
    "            #dw\n",
    "            depthwise_conv(in_channels=hidden_dim,\n",
    "                           kernels_per_layer=1,\n",
    "                           out_channels=hidden_dim,\n",
    "                           groups=hidden_dim,\n",
    "                           bias=bias,\n",
    "                           kernel_size=(3,3),\n",
    "                           padding=1,\n",
    "                           stride=strides),\n",
    "            nn.BatchNorm2d(num_features=hidden_dim),\n",
    "            nn.ReLU6(inplace=True),\n",
    "            \n",
    "            #pw\n",
    "            nn.Conv2d(in_channels=hidden_dim,\n",
    "                      out_channels=out_channels,\n",
    "                      bias=bias,\n",
    "                      kernel_size=(1,1),\n",
    "                      stride=1,\n",
    "                      padding=0),\n",
    "            nn.BatchNorm2d(num_features=out_channels)\n",
    "        )\n",
    "        \n",
    "        if in_channels != out_channels:\n",
    "            self.match_conv = nn.Conv2d(in_channels, out_channels, kernel_size=(1,1), stride=1, padding=0)\n",
    "        \n",
    "    def forward(self, x):\n",
    "        if self.use_residual:\n",
    "            x_shortcut = x\n",
    "            out = self.net(x)\n",
    "            if out.size()[1] != x_shortcut.size()[1]:\n",
    "                return self.match_conv(x_shortcut) + out\n",
    "            else:\n",
    "                return x_shortcut + out\n",
    "            \n",
    "        else:\n",
    "            return self.net(x)"
   ]
  },
  {
   "cell_type": "markdown",
   "metadata": {},
   "source": [
    "### Testing on Mnist"
   ]
  },
  {
   "cell_type": "code",
   "execution_count": 25,
   "metadata": {},
   "outputs": [],
   "source": [
    "mnist_trainset = torchvision.datasets.MNIST(root='./data',\n",
    "                                            train=True,\n",
    "                                            download=True,\n",
    "                                            transform=torchvision.transforms.ToTensor())\n",
    "mnist_loader = torch.utils.data.DataLoader(dataset=mnist_trainset, batch_size=64)\n",
    "x, y = mnist_loader.__iter__().__next__()"
   ]
  },
  {
   "cell_type": "code",
   "execution_count": 26,
   "metadata": {},
   "outputs": [
    {
     "data": {
      "text/plain": [
       "Inverted_Residual_Block(\n",
       "  (net): Sequential(\n",
       "    (0): Basic_conv2d_ReLU6(\n",
       "      (conv): Conv2d(1, 6, kernel_size=(1, 1), stride=(1, 1), bias=False)\n",
       "      (bn): BatchNorm2d(6, eps=1e-05, momentum=0.1, affine=True, track_running_stats=True)\n",
       "      (relu6): ReLU6(inplace)\n",
       "    )\n",
       "    (1): depthwise_conv(\n",
       "      (depthwise_conv): Conv2d(6, 6, kernel_size=(3, 3), stride=(2, 2), padding=(1, 1), groups=6, bias=False)\n",
       "    )\n",
       "    (2): BatchNorm2d(6, eps=1e-05, momentum=0.1, affine=True, track_running_stats=True)\n",
       "    (3): ReLU6(inplace)\n",
       "    (4): Conv2d(6, 64, kernel_size=(1, 1), stride=(1, 1), bias=False)\n",
       "    (5): BatchNorm2d(64, eps=1e-05, momentum=0.1, affine=True, track_running_stats=True)\n",
       "  )\n",
       "  (match_conv): Conv2d(1, 64, kernel_size=(1, 1), stride=(1, 1))\n",
       ")"
      ]
     },
     "execution_count": 26,
     "metadata": {},
     "output_type": "execute_result"
    }
   ],
   "source": [
    "model = Inverted_Residual_Block(in_channels=1, out_channels=64, expand_ratio=6, strides=2, bias=False)\n",
    "model"
   ]
  },
  {
   "cell_type": "code",
   "execution_count": 27,
   "metadata": {},
   "outputs": [
    {
     "data": {
      "text/plain": [
       "torch.Size([64, 64, 14, 14])"
      ]
     },
     "execution_count": 27,
     "metadata": {},
     "output_type": "execute_result"
    }
   ],
   "source": [
    "out = model(x)\n",
    "out.size()"
   ]
  },
  {
   "cell_type": "markdown",
   "metadata": {},
   "source": [
    "### Reference:\n",
    "1. [MobileNet V2: Paper](https://arxiv.org/pdf/1801.04381.pdf)\n",
    "2. [MobileNet V2: Pytorch Tutorial](https://github.com/tonylins/pytorch-mobilenet-v2/blob/master/MobileNetV2.py)\n",
    "3. [MobileNet V2: Review Article](https://blog.csdn.net/mzpmzk/article/details/82976871)\n"
   ]
  },
  {
   "cell_type": "code",
   "execution_count": null,
   "metadata": {},
   "outputs": [],
   "source": []
  }
 ],
 "metadata": {
  "kernelspec": {
   "display_name": "torch_env",
   "language": "python",
   "name": "torch_env"
  },
  "language_info": {
   "codemirror_mode": {
    "name": "ipython",
    "version": 3
   },
   "file_extension": ".py",
   "mimetype": "text/x-python",
   "name": "python",
   "nbconvert_exporter": "python",
   "pygments_lexer": "ipython3",
   "version": "3.7.3"
  }
 },
 "nbformat": 4,
 "nbformat_minor": 2
}
