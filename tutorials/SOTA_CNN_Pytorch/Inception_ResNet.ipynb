{
 "cells": [
  {
   "cell_type": "code",
   "execution_count": 1,
   "metadata": {},
   "outputs": [],
   "source": [
    "import os, sys\n",
    "import torch\n",
    "import torchvision\n",
    "import torch.nn as nn"
   ]
  },
  {
   "cell_type": "markdown",
   "metadata": {},
   "source": [
    "### Setting block"
   ]
  },
  {
   "cell_type": "code",
   "execution_count": 10,
   "metadata": {},
   "outputs": [],
   "source": [
    "### Here we take InceptionResnet-A block as an example ###\n",
    "# Reference: https://github.com/Cadene/pretrained-models.pytorch/blob/master/pretrainedmodels/models/inceptionresnetv2.py\n",
    "class Basic_conv2d_ReLU(nn.Module):\n",
    "    def __init__(self, in_channels, out_channels, inplace, **kwarg):\n",
    "        super(Basic_conv2d_ReLU, self).__init__()\n",
    "        \n",
    "        self.conv = nn.Conv2d(in_channels=in_channels, out_channels=out_channels, **kwarg)\n",
    "        self.bn = nn.BatchNorm2d(num_features=out_channels)\n",
    "        self.relu = nn.ReLU(inplace=inplace)\n",
    "        \n",
    "    def forward(self, x):\n",
    "        out = self.conv(x)\n",
    "        out = self.bn(out)\n",
    "        out = self.relu(out)\n",
    "        \n",
    "        return out\n",
    "    \n",
    "class Basic_conv2d_LeakyReLU(nn.Module):\n",
    "    def __init__(self, in_channels, out_channels, inplace, **kwarg):\n",
    "        super(Basic_conv2d_LeakyReLU, self).__init__()\n",
    "        \n",
    "        self.conv = nn.Conv2d(in_channels=in_channels, out_channels=out_channels, **kwarg)\n",
    "        self.bn = nn.BatchNorm2d(num_features=out_channels)\n",
    "        self.leaky_relu = nn.LeakyReLU(negative_slope=0.2, inplace=inplace)\n",
    "        \n",
    "    def forward(self, x):\n",
    "        out = self.conv(x)\n",
    "        out = self.bn(out)\n",
    "        out = self.leaky_relu(out)\n",
    "        \n",
    "        return out\n",
    "    \n",
    "\"\"\"A block\"\"\"\n",
    "class InceptionResnetA_Block(nn.Module):\n",
    "    def __init__(self, in_channels, out_channels, scale=1.0):\n",
    "        super(InceptionResnetA_Block, self).__init__()\n",
    "        \n",
    "        self.scale = scale\n",
    "        \n",
    "        self.branch1 = Basic_conv2d_LeakyReLU(in_channels=in_channels,\n",
    "                                              out_channels=32,\n",
    "                                              inplace=False,\n",
    "                                              kernel_size=(1,1), \n",
    "                                              stride=(1,1),\n",
    "                                              padding=(0,0))\n",
    "        \n",
    "        self.branch2 = nn.Sequential(\n",
    "            Basic_conv2d_LeakyReLU(in_channels, 32, kernel_size=(1,1), inplace=False, stride=1, padding=0),\n",
    "            Basic_conv2d_LeakyReLU(32, 32, kernel_size=(3,3), inplace=False, stride=1, padding=1)\n",
    "        )\n",
    "        \n",
    "        self.branch3 = nn.Sequential(\n",
    "            Basic_conv2d_LeakyReLU(in_channels, 32, kernel_size=(1,1), inplace=False, stride=1, padding=0),\n",
    "            Basic_conv2d_LeakyReLU(32, 48, kernel_size=(3,3), inplace=False, stride=1, padding=1),\n",
    "            Basic_conv2d_LeakyReLU(48, 64, kernel_size=(3,3), inplace=False, stride=1, padding=1)\n",
    "        )\n",
    "        \n",
    "        self.linear = nn.Conv2d(32+32+64, out_channels, kernel_size=(1,1), stride=1, padding=0)\n",
    "        self.leaky_relu = nn.LeakyReLU(negative_slope=0.2, inplace=False)\n",
    "        \n",
    "    def forward(self, x):\n",
    "        x_shortcut = x\n",
    "        x1 = self.branch1(x)\n",
    "        x2 = self.branch2(x)\n",
    "        x3 = self.branch3(x)\n",
    "        \n",
    "        out = torch.cat((x1, x2, x3), dim=1)\n",
    "        out = self.linear(out)\n",
    "        \n",
    "        out = out*self.scale + x_shortcut\n",
    "        out = self.leaky_relu(out)\n",
    "        \n",
    "        return out"
   ]
  },
  {
   "cell_type": "markdown",
   "metadata": {},
   "source": [
    "### Testing on Mnist"
   ]
  },
  {
   "cell_type": "code",
   "execution_count": 4,
   "metadata": {},
   "outputs": [],
   "source": [
    "mnist_trainset = torchvision.datasets.MNIST(root='./data',\n",
    "                                            train=True,\n",
    "                                            download=True,\n",
    "                                            transform=torchvision.transforms.ToTensor())\n",
    "mnist_loader = torch.utils.data.DataLoader(dataset=mnist_trainset, batch_size=64)\n",
    "x, y = mnist_loader.__iter__().__next__()"
   ]
  },
  {
   "cell_type": "code",
   "execution_count": 11,
   "metadata": {},
   "outputs": [
    {
     "data": {
      "text/plain": [
       "InceptionResnetA_Block(\n",
       "  (branch1): Basic_conv2d_LeakyReLU(\n",
       "    (conv): Conv2d(1, 32, kernel_size=(1, 1), stride=(1, 1))\n",
       "    (bn): BatchNorm2d(32, eps=1e-05, momentum=0.1, affine=True, track_running_stats=True)\n",
       "    (leaky_relu): LeakyReLU(negative_slope=0.2)\n",
       "  )\n",
       "  (branch2): Sequential(\n",
       "    (0): Basic_conv2d_LeakyReLU(\n",
       "      (conv): Conv2d(1, 32, kernel_size=(1, 1), stride=(1, 1))\n",
       "      (bn): BatchNorm2d(32, eps=1e-05, momentum=0.1, affine=True, track_running_stats=True)\n",
       "      (leaky_relu): LeakyReLU(negative_slope=0.2)\n",
       "    )\n",
       "    (1): Basic_conv2d_LeakyReLU(\n",
       "      (conv): Conv2d(32, 32, kernel_size=(3, 3), stride=(1, 1), padding=(1, 1))\n",
       "      (bn): BatchNorm2d(32, eps=1e-05, momentum=0.1, affine=True, track_running_stats=True)\n",
       "      (leaky_relu): LeakyReLU(negative_slope=0.2)\n",
       "    )\n",
       "  )\n",
       "  (branch3): Sequential(\n",
       "    (0): Basic_conv2d_LeakyReLU(\n",
       "      (conv): Conv2d(1, 32, kernel_size=(1, 1), stride=(1, 1))\n",
       "      (bn): BatchNorm2d(32, eps=1e-05, momentum=0.1, affine=True, track_running_stats=True)\n",
       "      (leaky_relu): LeakyReLU(negative_slope=0.2)\n",
       "    )\n",
       "    (1): Basic_conv2d_LeakyReLU(\n",
       "      (conv): Conv2d(32, 48, kernel_size=(3, 3), stride=(1, 1), padding=(1, 1))\n",
       "      (bn): BatchNorm2d(48, eps=1e-05, momentum=0.1, affine=True, track_running_stats=True)\n",
       "      (leaky_relu): LeakyReLU(negative_slope=0.2)\n",
       "    )\n",
       "    (2): Basic_conv2d_LeakyReLU(\n",
       "      (conv): Conv2d(48, 64, kernel_size=(3, 3), stride=(1, 1), padding=(1, 1))\n",
       "      (bn): BatchNorm2d(64, eps=1e-05, momentum=0.1, affine=True, track_running_stats=True)\n",
       "      (leaky_relu): LeakyReLU(negative_slope=0.2)\n",
       "    )\n",
       "  )\n",
       "  (linear): Conv2d(128, 384, kernel_size=(1, 1), stride=(1, 1))\n",
       "  (leaky_relu): LeakyReLU(negative_slope=0.2)\n",
       ")"
      ]
     },
     "execution_count": 11,
     "metadata": {},
     "output_type": "execute_result"
    }
   ],
   "source": [
    "model = InceptionResnetA_Block(in_channels=1, out_channels=384)\n",
    "model"
   ]
  },
  {
   "cell_type": "code",
   "execution_count": 13,
   "metadata": {},
   "outputs": [
    {
     "data": {
      "text/plain": [
       "torch.Size([64, 384, 28, 28])"
      ]
     },
     "execution_count": 13,
     "metadata": {},
     "output_type": "execute_result"
    }
   ],
   "source": [
    "out = model(x)\n",
    "out.size()"
   ]
  },
  {
   "cell_type": "markdown",
   "metadata": {},
   "source": [
    "### Reference:\n",
    "1. [Inception_V3:Paper](https://www.cv-foundation.org/openaccess/content_cvpr_2016/papers/Szegedy_Rethinking_the_Inception_CVPR_2016_paper.pdf)\n",
    "2. [Inception_V3: Review Article](https://medium.com/@sh.tsang/review-inception-v3-1st-runner-up-image-classification-in-ilsvrc-2015-17915421f77c)\n",
    "3. [Inception_V4 and Inception_ResNet: Paper](https://arxiv.org/pdf/1602.07261.pdf)\n",
    "4. [Inception_V4 and Inception_ResNet: Review Article-1](https://towardsdatascience.com/review-inception-v4-evolved-from-googlenet-merged-with-resnet-idea-image-classification-5e8c339d18bc)\n",
    "5. [Inception_V4 and Inception_ResNet: Review Article-2](https://zhuanlan.zhihu.com/p/32888084)\n",
    "6. [InceptionResNet_V2: Review Article](https://lizonghang.github.io/2018/05/23/Inception-ResNet-v2/)\n",
    "7. [InceptionResNet_V2: Pytorch Tutorial](https://github.com/Cadene/pretrained-models.pytorch/blob/master/pretrainedmodels/models/inceptionresnetv2.py)"
   ]
  },
  {
   "cell_type": "code",
   "execution_count": null,
   "metadata": {},
   "outputs": [],
   "source": []
  }
 ],
 "metadata": {
  "kernelspec": {
   "display_name": "torch_env",
   "language": "python",
   "name": "torch_env"
  },
  "language_info": {
   "codemirror_mode": {
    "name": "ipython",
    "version": 3
   },
   "file_extension": ".py",
   "mimetype": "text/x-python",
   "name": "python",
   "nbconvert_exporter": "python",
   "pygments_lexer": "ipython3",
   "version": "3.7.3"
  }
 },
 "nbformat": 4,
 "nbformat_minor": 2
}
