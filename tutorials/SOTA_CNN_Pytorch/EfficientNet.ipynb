{
 "cells": [
  {
   "cell_type": "code",
   "execution_count": 1,
   "metadata": {},
   "outputs": [],
   "source": [
    "import os, sys\n",
    "import torch\n",
    "import torchvision\n",
    "import torch.nn as nn"
   ]
  },
  {
   "cell_type": "markdown",
   "metadata": {},
   "source": [
    "### Setting block"
   ]
  },
  {
   "cell_type": "code",
   "execution_count": 110,
   "metadata": {},
   "outputs": [],
   "source": [
    "#Reference: https://github.com/lukemelas/EfficientNet-PyTorch\n",
    "class depthwise_conv(nn.Module):\n",
    "    def __init__(self, in_channels, kernels_per_layer, out_channels, groups, **kwarg):\n",
    "        super(depthwise_conv, self).__init__()\n",
    "        \n",
    "        assert in_channels%groups == 0, \"Groups Error: in_channels should be divisible by groups\"\n",
    "            \n",
    "        self.depthwise_conv = nn.Conv2d(in_channels=in_channels,\n",
    "                                        out_channels=kernels_per_layer*in_channels,\n",
    "                                        groups=in_channels,\n",
    "                                        **kwarg)\n",
    "        \n",
    "    def forward(self, x):\n",
    "        out = self.depthwise_conv(x)\n",
    "        \n",
    "        return out\n",
    "    \n",
    "class Basic_conv2d_ReLU6(nn.Module):\n",
    "    def __init__(self, in_channels, out_channels, inplace, **kwarg):\n",
    "        super(Basic_conv2d_ReLU6, self).__init__()\n",
    "        \n",
    "        self.conv = nn.Conv2d(in_channels=in_channels, out_channels=out_channels, **kwarg)\n",
    "        self.bn = nn.BatchNorm2d(num_features=out_channels)\n",
    "        self.relu6 = nn.ReLU6(inplace=inplace)\n",
    "        \n",
    "    def forward(self, x):\n",
    "        out = self.conv(x)\n",
    "        out = self.bn(out)\n",
    "        out = self.relu6(out)\n",
    "        \n",
    "        return out\n",
    "        \n",
    "class MBConvBlock(nn.Module):\n",
    "    def __init__(self, in_channels, out_channels, expand_ratio, se_ratio, strides, bias, inplace, use_squeeze_excitation):\n",
    "        super(MBConvBlock, self).__init__()\n",
    "        \n",
    "        assert 0 < se_ratio <= 1, 'Squeeze ratio for squeeze and excitation should be within (0,1]'\n",
    "        \n",
    "        self.strides = strides\n",
    "        self.use_residual = strides == 1 or strides == (1,1)\n",
    "        self.use_squeeze_excitation = use_squeeze_excitation\n",
    "        hidden_dim = round(in_channels * expand_ratio)\n",
    "        \n",
    "        self.inverted_residual_block = nn.Sequential(\n",
    "            #pw: expansion\n",
    "            nn.Conv2d(in_channels=in_channels, out_channels=hidden_dim, kernel_size=(1,1), stride=1, padding=0, bias=bias),\n",
    "            nn.BatchNorm2d(num_features=hidden_dim),\n",
    "            nn.ReLU6(inplace=inplace),\n",
    "            \n",
    "            #dw\n",
    "            nn.Conv2d(in_channels=hidden_dim, out_channels=hidden_dim, kernel_size=(3,3),\n",
    "                      stride=strides, padding=1, bias=bias, groups=hidden_dim),\n",
    "            nn.BatchNorm2d(num_features=hidden_dim),\n",
    "            nn.ReLU6(inplace=inplace),\n",
    "            \n",
    "            #pw: linear, compression\n",
    "            nn.Conv2d(in_channels=hidden_dim, out_channels=out_channels, kernel_size=(1,1), \n",
    "                      stride=1, padding=0, bias=bias),\n",
    "            nn.BatchNorm2d(num_features=out_channels)      \n",
    "        )\n",
    "        \n",
    "        if in_channels != out_channels:\n",
    "            self.match_conv = nn.Conv2d(in_channels, out_channels, kernel_size=(1,1), stride=1, padding=0)\n",
    "        \n",
    "        if self.use_squeeze_excitation:\n",
    "            squeeze_channels = int(out_channels * se_ratio)\n",
    "            \n",
    "            self.global_avgPooling = nn.AdaptiveAvgPool2d((1,1))\n",
    "            \n",
    "            self.se_net = nn.Sequential(\n",
    "                nn.Linear(in_features=out_channels, out_features=squeeze_channels),\n",
    "                nn.ReLU(inplace=inplace),\n",
    "                nn.Linear(in_features=squeeze_channels, out_features=out_channels),\n",
    "                nn.Sigmoid()\n",
    "            )\n",
    "            \n",
    "            \n",
    "    def forward(self, x):\n",
    "        out = self.inverted_residual_block(x)\n",
    "        if self.use_squeeze_excitation:\n",
    "            out_se = self.global_avgPooling(out)\n",
    "            out_se = torch.squeeze(out_se)\n",
    "            out_se = self.se_net(out_se)\n",
    "            out_se = out_se.view(out_se.size()[0], out_se.size()[1], 1, 1)\n",
    "            out = out * out_se\n",
    "        \n",
    "        if self.use_residual:\n",
    "            if out.size()[1] != x.size()[1]:\n",
    "                out = self.match_conv(x) + out\n",
    "            else:\n",
    "                out = x + out\n",
    "                \n",
    "        return out"
   ]
  },
  {
   "cell_type": "markdown",
   "metadata": {},
   "source": [
    "### Testing on Mnist"
   ]
  },
  {
   "cell_type": "code",
   "execution_count": 111,
   "metadata": {},
   "outputs": [],
   "source": [
    "mnist_trainset = torchvision.datasets.MNIST(root='./data',\n",
    "                                            train=True,\n",
    "                                            download=True,\n",
    "                                            transform=torchvision.transforms.ToTensor())\n",
    "mnist_loader = torch.utils.data.DataLoader(dataset=mnist_trainset, batch_size=64)\n",
    "x, y = mnist_loader.__iter__().__next__()"
   ]
  },
  {
   "cell_type": "code",
   "execution_count": 116,
   "metadata": {},
   "outputs": [
    {
     "data": {
      "text/plain": [
       "MBConvBlock(\n",
       "  (inverted_residual_block): Sequential(\n",
       "    (0): Conv2d(1, 4, kernel_size=(1, 1), stride=(1, 1), bias=False)\n",
       "    (1): BatchNorm2d(4, eps=1e-05, momentum=0.1, affine=True, track_running_stats=True)\n",
       "    (2): ReLU6(inplace)\n",
       "    (3): Conv2d(4, 4, kernel_size=(3, 3), stride=(1, 1), padding=(1, 1), groups=4, bias=False)\n",
       "    (4): BatchNorm2d(4, eps=1e-05, momentum=0.1, affine=True, track_running_stats=True)\n",
       "    (5): ReLU6(inplace)\n",
       "    (6): Conv2d(4, 64, kernel_size=(1, 1), stride=(1, 1), bias=False)\n",
       "    (7): BatchNorm2d(64, eps=1e-05, momentum=0.1, affine=True, track_running_stats=True)\n",
       "  )\n",
       "  (match_conv): Conv2d(1, 64, kernel_size=(1, 1), stride=(1, 1))\n",
       "  (global_avgPooling): AdaptiveAvgPool2d(output_size=(1, 1))\n",
       "  (se_net): Sequential(\n",
       "    (0): Linear(in_features=64, out_features=16, bias=True)\n",
       "    (1): ReLU(inplace)\n",
       "    (2): Linear(in_features=16, out_features=64, bias=True)\n",
       "    (3): Sigmoid()\n",
       "  )\n",
       ")"
      ]
     },
     "execution_count": 116,
     "metadata": {},
     "output_type": "execute_result"
    }
   ],
   "source": [
    "model = MBConvBlock(in_channels=1, out_channels=64, expand_ratio=4, se_ratio=0.25,\n",
    "                    strides=(1,1), bias=False, inplace=True,\n",
    "                    use_squeeze_excitation=True)\n",
    "\n",
    "model"
   ]
  },
  {
   "cell_type": "code",
   "execution_count": 115,
   "metadata": {},
   "outputs": [
    {
     "name": "stdout",
     "output_type": "stream",
     "text": [
      "torch.Size([64, 64, 1, 1])\n",
      "torch.Size([64, 64])\n",
      "torch.Size([64, 64])\n",
      "torch.Size([64, 64, 1, 1])\n"
     ]
    },
    {
     "data": {
      "text/plain": [
       "torch.Size([64, 64, 14, 14])"
      ]
     },
     "execution_count": 115,
     "metadata": {},
     "output_type": "execute_result"
    }
   ],
   "source": [
    "out = model(x)\n",
    "out.size()"
   ]
  },
  {
   "cell_type": "markdown",
   "metadata": {},
   "source": [
    "### Reference:\n",
    "\n",
    "1. [EfficientNet: Paper](https://ai.googleblog.com/2019/05/efficientnet-improving-accuracy-and.html?fbclid=IwAR3ZzFTybRmUruCHvPi8MyTr02v6AuSHjzK9NeSccUrRZ1XQq8eMAwsgIjo)\n",
    "2. [EfficientNet: Pytorch Tutorial](https://github.com/lukemelas/EfficientNet-PyTorch)\n",
    "3. [EfficientNet: Review Article](https://mc.ai/%E8%AB%96%E6%96%87%E7%AD%86%E8%A8%98-ef%EF%AC%81cient-net-rethinking/)\n",
    "4. [EfficientNet: Discussion Forum](https://forums.fast.ai/t/efficientnet/46978)\n",
    "5. [SENet: Paper](https://arxiv.org/pdf/1709.01507.pdf)\n",
    "6. [SENet: Review Article](https://blog.csdn.net/evan123mg/article/details/80058077)"
   ]
  },
  {
   "cell_type": "code",
   "execution_count": null,
   "metadata": {},
   "outputs": [],
   "source": []
  }
 ],
 "metadata": {
  "kernelspec": {
   "display_name": "torch_env",
   "language": "python",
   "name": "torch_env"
  },
  "language_info": {
   "codemirror_mode": {
    "name": "ipython",
    "version": 3
   },
   "file_extension": ".py",
   "mimetype": "text/x-python",
   "name": "python",
   "nbconvert_exporter": "python",
   "pygments_lexer": "ipython3",
   "version": "3.7.3"
  }
 },
 "nbformat": 4,
 "nbformat_minor": 2
}
